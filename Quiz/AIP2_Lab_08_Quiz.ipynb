{
  "nbformat": 4,
  "nbformat_minor": 0,
  "metadata": {
    "kernelspec": {
      "display_name": "Python 3",
      "language": "python",
      "name": "python3"
    },
    "language_info": {
      "codemirror_mode": {
        "name": "ipython",
        "version": 3
      },
      "file_extension": ".py",
      "mimetype": "text/x-python",
      "name": "python",
      "nbconvert_exporter": "python",
      "pygments_lexer": "ipython3",
      "version": "3.7.4"
    },
    "colab": {
      "name": "AIP2_Lab_08_Quiz.ipynb",
      "provenance": [],
      "collapsed_sections": [],
      "include_colab_link": true
    }
  },
  "cells": [
    {
      "cell_type": "markdown",
      "metadata": {
        "id": "view-in-github",
        "colab_type": "text"
      },
      "source": [
        "<a href=\"https://colab.research.google.com/github/sayem1997/AIPII/blob/master/Quiz/AIP2_Lab_08_Quiz.ipynb\" target=\"_parent\"><img src=\"https://colab.research.google.com/assets/colab-badge.svg\" alt=\"Open In Colab\"/></a>"
      ]
    },
    {
      "cell_type": "markdown",
      "metadata": {
        "id": "CLoQUxmbryha",
        "colab_type": "text"
      },
      "source": [
        "# Introduction to AI Programming II Lab.  May 12 (Quiz :: 60 pts)"
      ]
    },
    {
      "cell_type": "markdown",
      "metadata": {
        "id": "uNtCKEMMryhc",
        "colab_type": "raw"
      },
      "source": [
        "Student No:                                             Student Name: "
      ]
    },
    {
      "cell_type": "code",
      "metadata": {
        "id": "ojXifs1V0cDc",
        "colab_type": "code",
        "colab": {}
      },
      "source": [
        "20192015, Doniyor Khudoyarov"
      ],
      "execution_count": 0,
      "outputs": []
    },
    {
      "cell_type": "markdown",
      "metadata": {
        "id": "ez4Z_qku0bnr",
        "colab_type": "text"
      },
      "source": [
        ""
      ]
    },
    {
      "cell_type": "markdown",
      "metadata": {
        "id": "gQ_7QGEPryhd",
        "colab_type": "text"
      },
      "source": [
        "## 1. [Detector]  (20 pts) --> each points have 5 pts\n",
        "The signal coming from a radar detector follows the Gaussian distribution with the mean 4 and the variance 1 when there is a plane in the air, and with the mean 0 and the variance 1 when there is no plain in the air. The Gaussian distribution is given by "
      ]
    },
    {
      "cell_type": "markdown",
      "metadata": {
        "id": "xVYT-W85ryhe",
        "colab_type": "text"
      },
      "source": [
        "## f(x) = $\\frac{1}{\\sqrt{2πσ^2}}{e^{-\\frac{1}{2σ^2} {(x-μ)}^2}}$ \n",
        "\n",
        "\n"
      ]
    },
    {
      "cell_type": "markdown",
      "metadata": {
        "id": "WE1IEY9Bryhg",
        "colab_type": "text"
      },
      "source": [
        "where 𝜇 is the mean and 𝜎2 is the variance. The decision logic of the detector is"
      ]
    },
    {
      "cell_type": "markdown",
      "metadata": {
        "id": "ug-SOkUwryhh",
        "colab_type": "text"
      },
      "source": [
        "## $ϕ(x)$ = ${1,    x≥1     }$  \n",
        "## $ϕ(x)$ = ${0,    x<1    }$ "
      ]
    },
    {
      "cell_type": "code",
      "metadata": {
        "id": "4KWajajqryhi",
        "colab_type": "code",
        "colab": {}
      },
      "source": [
        "# import package\n",
        "\n",
        "import numpy as np\n",
        "import matplotlib.pyplot as plt"
      ],
      "execution_count": 0,
      "outputs": []
    },
    {
      "cell_type": "markdown",
      "metadata": {
        "id": "Fg4125nqryho",
        "colab_type": "text"
      },
      "source": [
        "### Problem 01. Explan each part( (1)~ (4)) in the table below.  Plz write your answer briefly~~~!! "
      ]
    },
    {
      "cell_type": "markdown",
      "metadata": {
        "id": "CDGjumxkryho",
        "colab_type": "text"
      },
      "source": [
        "|        | yhat = 1      | yhat = 0        |\n",
        "|--------|---------------|-----------------|\n",
        "|   y=1  | (1)  1    | (2)   0       |\n",
        "|--------|---------------|-----------------|\n",
        "|   y=0  | (3)  FN         |(4)      TN        | \n",
        "\n",
        "The above table is called the confusion matrix.\n"
      ]
    },
    {
      "cell_type": "markdown",
      "metadata": {
        "id": "TodAiIw3ryhp",
        "colab_type": "raw"
      },
      "source": [
        "(1)\n",
        "\n",
        "\n",
        "\n",
        "\n",
        "(2) \n",
        "\n",
        "\n",
        "\n",
        "(3)\n",
        "\n",
        "\n",
        "\n",
        "(4) \n",
        "\n",
        "\n",
        "\n",
        "\n"
      ]
    },
    {
      "cell_type": "markdown",
      "metadata": {
        "id": "87s9J1p8ryhq",
        "colab_type": "text"
      },
      "source": [
        "## 2. Problem 02.  (20 pts) --> each points have 5 pts"
      ]
    },
    {
      "cell_type": "markdown",
      "metadata": {
        "id": "_fHkZ1aBryhr",
        "colab_type": "text"
      },
      "source": [
        "#### A.Write a function “compute” that takes the input x and returns $ 2x^2+3x+4$"
      ]
    },
    {
      "cell_type": "code",
      "metadata": {
        "id": "_HWQrRoIryhs",
        "colab_type": "code",
        "colab": {}
      },
      "source": [
        "# write your answer in here \n",
        "\n",
        "def compute(x):\n",
        "    return 2*x**2 + 3*x + 4\n"
      ],
      "execution_count": 0,
      "outputs": []
    },
    {
      "cell_type": "code",
      "metadata": {
        "id": "XwjgWJd0ryhw",
        "colab_type": "code",
        "outputId": "1f823af5-3920-40a1-bfbc-31d89c4b32af",
        "colab": {
          "base_uri": "https://localhost:8080/",
          "height": 34
        }
      },
      "source": [
        "compute(3)"
      ],
      "execution_count": 0,
      "outputs": [
        {
          "output_type": "execute_result",
          "data": {
            "text/plain": [
              "31"
            ]
          },
          "metadata": {
            "tags": []
          },
          "execution_count": 2
        }
      ]
    },
    {
      "cell_type": "markdown",
      "metadata": {
        "id": "6OBq7urYryh0",
        "colab_type": "text"
      },
      "source": [
        "#### B.\tGenerate a 1024x1 signal that follows the uniform distribution between [0,1]. Plot the histogram of x."
      ]
    },
    {
      "cell_type": "code",
      "metadata": {
        "id": "UeY-Hslsryh1",
        "colab_type": "code",
        "outputId": "522cdc52-13c0-48b4-e037-9726a83f37c0",
        "colab": {
          "base_uri": "https://localhost:8080/",
          "height": 350
        }
      },
      "source": [
        "# use np.random.rand() or uniform()\n",
        "# write your answer in here \n",
        "sample_size = 1024\n",
        "dimension = 1\n",
        "x  = np.random.uniform(low=0, high=1, size=(sample_size, 1))\n",
        "plt.hist(x)"
      ],
      "execution_count": 0,
      "outputs": [
        {
          "output_type": "execute_result",
          "data": {
            "text/plain": [
              "(array([109., 100., 127., 107.,  88.,  98.,  92., 108., 103.,  92.]),\n",
              " array([0.00234035, 0.10210507, 0.2018698 , 0.30163453, 0.40139925,\n",
              "        0.50116398, 0.60092871, 0.70069343, 0.80045816, 0.90022289,\n",
              "        0.99998761]),\n",
              " <a list of 10 Patch objects>)"
            ]
          },
          "metadata": {
            "tags": []
          },
          "execution_count": 11
        },
        {
          "output_type": "display_data",
          "data": {
            "image/png": "[encoded data removed]",
            "text/plain": [
              "<Figure size 432x288 with 1 Axes>"
            ]
          },
          "metadata": {
            "tags": [],
            "needs_background": "light"
          }
        }
      ]
    },
    {
      "cell_type": "markdown",
      "metadata": {
        "id": "0p3sIhijryh5",
        "colab_type": "text"
      },
      "source": [
        "\n",
        "#### C.\tGenerate a 1024x1 signal that follows the uniform distribution between [-1,1]. Plot the histogram of x.\n"
      ]
    },
    {
      "cell_type": "code",
      "metadata": {
        "id": "5dlwasYcryh5",
        "colab_type": "code",
        "outputId": "e181d9fc-f92f-4f7e-9227-393cb544ba86",
        "colab": {
          "base_uri": "https://localhost:8080/",
          "height": 353
        }
      },
      "source": [
        "# write your answer in here \n",
        "sample_size = 1024\n",
        "dimension = 1\n",
        "x  = np.random.uniform(low=-1, high=1, size=(sample_size, 1))\n",
        "plt.hist(x)"
      ],
      "execution_count": 0,
      "outputs": [
        {
          "output_type": "execute_result",
          "data": {
            "text/plain": [
              "(array([101.,  97., 107., 104.,  92., 105., 115., 102., 103.,  98.]),\n",
              " array([-9.98628404e-01, -7.99011610e-01, -5.99394817e-01, -3.99778023e-01,\n",
              "        -2.00161229e-01, -5.44435777e-04,  1.99072358e-01,  3.98689151e-01,\n",
              "         5.98305945e-01,  7.97922739e-01,  9.97539532e-01]),\n",
              " <a list of 10 Patch objects>)"
            ]
          },
          "metadata": {
            "tags": []
          },
          "execution_count": 12
        },
        {
          "output_type": "display_data",
          "data": {
            "image/png": "[encoded data removed]",
            "text/plain": [
              "<Figure size 432x288 with 1 Axes>"
            ]
          },
          "metadata": {
            "tags": [],
            "needs_background": "light"
          }
        }
      ]
    },
    {
      "cell_type": "markdown",
      "metadata": {
        "id": "AP1x6rwZryh_",
        "colab_type": "text"
      },
      "source": [
        "#### D.\tGenerate a 1024x1 signal that follows the Gaussian distribution with mean 0 and variance $ 2^2$. Plot the histogram of x."
      ]
    },
    {
      "cell_type": "code",
      "metadata": {
        "id": "Kec2TXJ-ryiA",
        "colab_type": "code",
        "outputId": "b42f3372-e07e-4a62-9aa0-4b9a107afea7",
        "colab": {
          "base_uri": "https://localhost:8080/",
          "height": 350
        }
      },
      "source": [
        "mu = 0\n",
        "sigma = 4\n",
        "n = 1024\n",
        "# write your answer in here \n",
        "# use normal distribution \n",
        "\n",
        "\n",
        "x = np.random.normal(mu,sigma,n) \n",
        "plt.hist(x)"
      ],
      "execution_count": 0,
      "outputs": [
        {
          "output_type": "execute_result",
          "data": {
            "text/plain": [
              "(array([  7.,  52., 142., 223., 273., 201.,  88.,  33.,   3.,   2.]),\n",
              " array([-11.64716045,  -8.94518524,  -6.24321003,  -3.54123482,\n",
              "         -0.83925961,   1.8627156 ,   4.56469081,   7.26666602,\n",
              "          9.96864123,  12.67061644,  15.37259165]),\n",
              " <a list of 10 Patch objects>)"
            ]
          },
          "metadata": {
            "tags": []
          },
          "execution_count": 16
        },
        {
          "output_type": "display_data",
          "data": {
            "image/png": "[encoded data removed]",
            "text/plain": [
              "<Figure size 432x288 with 1 Axes>"
            ]
          },
          "metadata": {
            "tags": [],
            "needs_background": "light"
          }
        }
      ]
    },
    {
      "cell_type": "markdown",
      "metadata": {
        "id": "W6vVShMJryiE",
        "colab_type": "text"
      },
      "source": [
        "### Problem 03. PyTorch - Tensor Manipulation (20 pts)"
      ]
    },
    {
      "cell_type": "code",
      "metadata": {
        "id": "JlP2OrjAryiE",
        "colab_type": "code",
        "colab": {}
      },
      "source": [
        "(1) What is meaning of \"Tensor\" in this Framework(based on \"NumPy\" experience)?  (5 pts)\n",
        "\n",
        "(2) Write the result in below. (10 pts)\n",
        "    m1 = torch.FloatTensor([[1, 2], [3, 4]])\n",
        "    m2 = torch.FloatTensor([[1, 2], [3, 4]])\n",
        "    # m3 :: declare m3 and doing calculation --> the result of multiplaciton of two array \n",
        "    print(m1, m2,  m1.dim(), m2.size())\n",
        "    print(m3, m3.dim())\n",
        "    \n",
        "(3) We can use the option \"dim=0\" for Concatenation. What is the meaning of \"dim\" in this part??  (5 pts)\n",
        "   \n",
        "    "
      ],
      "execution_count": 0,
      "outputs": []
    },
    {
      "cell_type": "code",
      "metadata": {
        "id": "ICoU6l7IryiJ",
        "colab_type": "code",
        "outputId": "637e98a5-988b-49f9-ae1b-d84a7272716b",
        "colab": {
          "base_uri": "https://localhost:8080/",
          "height": 129
        }
      },
      "source": [
        "Write your answer in below.\n",
        "\n",
        "(1) A PyTorch Tensor is basically the same as a numpy array: it does not know anything about deep learning or computational graphs or gradients, and is just a generic n-dimensional array to be used for arbitrary numeric computation.\n",
        "\n",
        "\n",
        "\n",
        "(2) Answer in 21th row\n",
        "\n",
        "\n",
        "\n",
        "(3) dim is defining dimension here. if dim=0 in the Concatenation of m1 and m2 it will be 4*2 matrix\n",
        "    & 2*4 matrix if dim=1. \n",
        "\n",
        "\n"
      ],
      "execution_count": 0,
      "outputs": [
        {
          "output_type": "error",
          "ename": "SyntaxError",
          "evalue": "ignored",
          "traceback": [
            "\u001b[0;36m  File \u001b[0;32m\"<ipython-input-17-4703b69f6042>\"\u001b[0;36m, line \u001b[0;32m1\u001b[0m\n\u001b[0;31m    Write your answer in below.\u001b[0m\n\u001b[0m             ^\u001b[0m\n\u001b[0;31mSyntaxError\u001b[0m\u001b[0;31m:\u001b[0m invalid syntax\n"
          ]
        }
      ]
    },
    {
      "cell_type": "code",
      "metadata": {
        "id": "6io1CsGsxhcc",
        "colab_type": "code",
        "outputId": "7c35e333-fc3a-4991-c590-75b522384e11",
        "colab": {
          "base_uri": "https://localhost:8080/",
          "height": 102
        }
      },
      "source": [
        "import numpy as np\n",
        "import torch\n",
        "m1 = torch.FloatTensor([[1, 2], [3, 4]])\n",
        "m2 = torch.FloatTensor([[1, 2], [3, 4]])\n",
        "    # m3 :: declare m3 and doing calculation --> the result of multiplaciton of two array \n",
        "m3 = torch.mm(m1, m2)\n",
        "print(m1, m2,  m1.dim(), m2.size())\n",
        "print(m3, m3.dim())"
      ],
      "execution_count": 8,
      "outputs": [
        {
          "output_type": "stream",
          "text": [
            "tensor([[1., 2.],\n",
            "        [3., 4.]]) tensor([[1., 2.],\n",
            "        [3., 4.]]) 2 torch.Size([2, 2])\n",
            "tensor([[ 7., 10.],\n",
            "        [15., 22.]]) 2\n"
          ],
          "name": "stdout"
        }
      ]
    },
    {
      "cell_type": "markdown",
      "metadata": {
        "id": "Gq2DFYQYryiN",
        "colab_type": "text"
      },
      "source": [
        "### If you are clear your job, please submit your file on BB!!!"
      ]
    },
    {
      "cell_type": "code",
      "metadata": {
        "id": "3Xm3FAyNKfbn",
        "colab_type": "code",
        "colab": {}
      },
      "source": [
        ""
      ],
      "execution_count": 0,
      "outputs": []
    },
    {
      "cell_type": "code",
      "metadata": {
        "id": "1ZPFTE7OKgXJ",
        "colab_type": "code",
        "colab": {}
      },
      "source": [
        ""
      ],
      "execution_count": 0,
      "outputs": []
    }
  ]
}
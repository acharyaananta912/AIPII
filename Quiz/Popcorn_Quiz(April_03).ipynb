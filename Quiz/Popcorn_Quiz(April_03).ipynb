{
  "nbformat": 4,
  "nbformat_minor": 0,
  "metadata": {
    "kernelspec": {
      "display_name": "Python 3",
      "language": "python",
      "name": "python3"
    },
    "language_info": {
      "codemirror_mode": {
        "name": "ipython",
        "version": 3
      },
      "file_extension": ".py",
      "mimetype": "text/x-python",
      "name": "python",
      "nbconvert_exporter": "python",
      "pygments_lexer": "ipython3",
      "version": "3.7.4"
    },
    "colab": {
      "name": "Popcorn Quiz(April 03).ipynb",
      "provenance": [],
      "include_colab_link": true
    }
  },
  "cells": [
    {
      "cell_type": "markdown",
      "metadata": {
        "id": "view-in-github",
        "colab_type": "text"
      },
      "source": [
        "<a href=\"https://colab.research.google.com/github/sayem1997/AIPII/blob/master/Quiz/Popcorn_Quiz(April_03).ipynb\" target=\"_parent\"><img src=\"https://colab.research.google.com/assets/colab-badge.svg\" alt=\"Open In Colab\"/></a>"
      ]
    },
    {
      "cell_type": "markdown",
      "metadata": {
        "id": "1sjVrHRUhLHY",
        "colab_type": "text"
      },
      "source": [
        "## Popcorn Quiz (April. 03)"
      ]
    },
    {
      "cell_type": "markdown",
      "metadata": {
        "id": "eoRBW5mwhLHe",
        "colab_type": "raw"
      },
      "source": [
        "Student ID:                              Student Name: "
      ]
    },
    {
      "cell_type": "markdown",
      "metadata": {
        "id": "xXYLSpPEhLHg",
        "colab_type": "text"
      },
      "source": [
        "### 1. NumPy arrays can explicitly be multi-dimensional (10 pts)\n",
        "####  Creating the two-dimensional array (3 by 2) : Just use array() & range()\n"
      ]
    },
    {
      "cell_type": "markdown",
      "metadata": {
        "id": "vfBO8f_QhLHi",
        "colab_type": "text"
      },
      "source": [
        "#### hint :: a = np.array([range(i, i + 3) for i in [1, 2, 3]])\n",
        "            --> make two dimensional array(3 by 3). \n",
        "\n",
        "Display that result, dimension and shape"
      ]
    },
    {
      "cell_type": "code",
      "metadata": {
        "id": "B2Kz3eIghLHj",
        "colab_type": "code",
        "outputId": "1daae10c-7dc8-4b48-b8c9-3feebf4f4692",
        "colab": {
          "base_uri": "https://localhost:8080/",
          "height": 68
        }
      },
      "source": [
        "import numpy as np\n",
        "# write your answers in here\n",
        "a = np.array([range(i, i+2) for i in [1, 2, 3]])\n",
        "print(a)\n"
      ],
      "execution_count": 0,
      "outputs": [
        {
          "output_type": "stream",
          "text": [
            "[[1 2]\n",
            " [2 3]\n",
            " [3 4]]\n"
          ],
          "name": "stdout"
        }
      ]
    },
    {
      "cell_type": "markdown",
      "metadata": {
        "id": "IJTKw7M6hLHy",
        "colab_type": "text"
      },
      "source": [
        "### 2. Create an array with values 0 to 49 using the np.arange() (10 pts)\n",
        "#### condition: stepping by 2 "
      ]
    },
    {
      "cell_type": "code",
      "metadata": {
        "id": "gLz0BATWhLHz",
        "colab_type": "code",
        "outputId": "a265ead7-56ff-4504-ff6a-e54a958e8d76",
        "colab": {
          "base_uri": "https://localhost:8080/",
          "height": 51
        }
      },
      "source": [
        "import numpy as np\n",
        "# write your answers in here\n",
        "b = np.arange(0, 50, 2)\n",
        "print(b)\n",
        "\n",
        "\n"
      ],
      "execution_count": 0,
      "outputs": [
        {
          "output_type": "stream",
          "text": [
            "[ 0  2  4  6  8 10 12 14 16 18 20 22 24 26 28 30 32 34 36 38 40 42 44 46\n",
            " 48]\n"
          ],
          "name": "stdout"
        }
      ]
    },
    {
      "cell_type": "markdown",
      "metadata": {
        "id": "0g77nZythLH7",
        "colab_type": "text"
      },
      "source": [
        "### 3. Slicing (10 pts)\n",
        "#### Write a Python program to create a 2d array as shown in the result array. And solve the problems. \n",
        " "
      ]
    },
    {
      "cell_type": "code",
      "metadata": {
        "id": "YuZkgnI2hLH9",
        "colab_type": "code",
        "outputId": "74a7a122-aeae-4f97-ca6e-4eb40c13a7b4",
        "colab": {
          "base_uri": "https://localhost:8080/",
          "height": 68
        }
      },
      "source": [
        "# raw data\n",
        "import numpy as np\n",
        "arr = np.array([[3,4,5,6], \n",
        "                [4,1,1,0],\n",
        "                [1,4,7,4]])\n",
        "arr"
      ],
      "execution_count": 0,
      "outputs": [
        {
          "output_type": "execute_result",
          "data": {
            "text/plain": [
              "array([[3, 4, 5, 6],\n",
              "       [4, 1, 1, 0],\n",
              "       [1, 4, 7, 4]])"
            ]
          },
          "metadata": {
            "tags": []
          },
          "execution_count": 7
        }
      ]
    },
    {
      "cell_type": "code",
      "metadata": {
        "id": "KXv89EJ4hLIJ",
        "colab_type": "code",
        "outputId": "cf44d306-1587-4d97-a659-4ef9ac1d19de",
        "colab": {
          "base_uri": "https://localhost:8080/",
          "height": 34
        }
      },
      "source": [
        "# 3-1.  Check the result and write your answer in below\n",
        "x = arr[:, -1]\n",
        "print(x)\n",
        "\n",
        "# result : array([6,0,4])"
      ],
      "execution_count": 0,
      "outputs": [
        {
          "output_type": "stream",
          "text": [
            "[6 0 4]\n"
          ],
          "name": "stdout"
        }
      ]
    },
    {
      "cell_type": "code",
      "metadata": {
        "id": "ACBG-9QWhLIT",
        "colab_type": "code",
        "outputId": "5e55a9db-3d9d-41df-883c-dc801125a473",
        "colab": {
          "base_uri": "https://localhost:8080/",
          "height": 68
        }
      },
      "source": [
        "# 3-2.  Check the result and write your answer in below\n",
        "y = arr[:, :-1:2]\n",
        "print(y)\n",
        "\n",
        "#    array([[3, 5],\n",
        "#          [4, 1],\n",
        "#          [1, 7]])   "
      ],
      "execution_count": 0,
      "outputs": [
        {
          "output_type": "stream",
          "text": [
            "[[3 5]\n",
            " [4 1]\n",
            " [1 7]]\n"
          ],
          "name": "stdout"
        }
      ]
    },
    {
      "cell_type": "markdown",
      "metadata": {
        "id": "dh2f8jUqhLIb",
        "colab_type": "text"
      },
      "source": [
        "### 4. Write a Python program to create a 2d array and then adjust to the final array in below (just use indexing!!!)  (10 pts)"
      ]
    },
    {
      "cell_type": "code",
      "metadata": {
        "id": "ek4KWaQvhLId",
        "colab_type": "code",
        "outputId": "258663c7-66be-4575-d299-680579ed53d6",
        "colab": {
          "base_uri": "https://localhost:8080/",
          "height": 102
        }
      },
      "source": [
        "import numpy as np\n",
        "arr = np.ones((4,4))\n",
        "print(\"This is the raw array.\")\n",
        "arr\n",
        "# the result array in below \n",
        "# array([[1., 1., 1., 1.],\n",
        "#        [2., 0., 0., 0.],\n",
        "#        [2., 0., 0., 0.],\n",
        "#        [3., 3., 3., 3.]])"
      ],
      "execution_count": 0,
      "outputs": [
        {
          "output_type": "stream",
          "text": [
            "This is the raw array.\n"
          ],
          "name": "stdout"
        },
        {
          "output_type": "execute_result",
          "data": {
            "text/plain": [
              "array([[1., 1., 1., 1.],\n",
              "       [1., 1., 1., 1.],\n",
              "       [1., 1., 1., 1.],\n",
              "       [1., 1., 1., 1.]])"
            ]
          },
          "metadata": {
            "tags": []
          },
          "execution_count": 13
        }
      ]
    },
    {
      "cell_type": "code",
      "metadata": {
        "id": "mAoqKThihLIs",
        "colab_type": "code",
        "outputId": "8f21cecc-e049-49e6-e9ba-41b3ba188f9a",
        "colab": {
          "base_uri": "https://localhost:8080/",
          "height": 105
        }
      },
      "source": [
        "# Write your answer in here\n",
        "for i in range(4):\n",
        "  for j in range(4):\n",
        "    if i == 3:\n",
        "      arr[i][j] += 2\n",
        "    if i > 0 and i < 3:\n",
        "      if j == 0:\n",
        "        arr[i][j] += 1\n",
        "      else:\n",
        "        arr[i][j] -= 1\n",
        "\n",
        "arr\n",
        "\n"
      ],
      "execution_count": 0,
      "outputs": [
        {
          "output_type": "execute_result",
          "data": {
            "text/plain": [
              "array([[1., 1., 1., 1.],\n",
              "       [2., 0., 0., 0.],\n",
              "       [2., 0., 0., 0.],\n",
              "       [3., 3., 3., 3.]])"
            ]
          },
          "metadata": {
            "tags": []
          },
          "execution_count": 28
        },
        {
          "output_type": "stream",
          "text": [
            "ERROR! Session/line number was not unique in database. History logging moved to new session 60\n"
          ],
          "name": "stdout"
        }
      ]
    },
    {
      "cell_type": "code",
      "metadata": {
        "id": "UWC2zGbQhLI0",
        "colab_type": "code",
        "colab": {}
      },
      "source": [
        "Good Job!"
      ],
      "execution_count": 0,
      "outputs": []
    }
  ]
}
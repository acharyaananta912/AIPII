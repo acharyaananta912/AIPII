{
  "nbformat": 4,
  "nbformat_minor": 0,
  "metadata": {
    "kernelspec": {
      "display_name": "Python 3",
      "language": "python",
      "name": "python3"
    },
    "language_info": {
      "codemirror_mode": {
        "name": "ipython",
        "version": 3
      },
      "file_extension": ".py",
      "mimetype": "text/x-python",
      "name": "python",
      "nbconvert_exporter": "python",
      "pygments_lexer": "ipython3",
      "version": "3.7.4"
    },
    "colab": {
      "name": "Intro to pytorch.ipynb",
      "provenance": [],
      "include_colab_link": true
    }
  },
  "cells": [
    {
      "cell_type": "markdown",
      "metadata": {
        "id": "view-in-github",
        "colab_type": "text"
      },
      "source": [
        "<a href=\"https://colab.research.google.com/github/sayem1997/AIPII/blob/master/Quiz/Intro_to_pytorch.ipynb\" target=\"_parent\"><img src=\"https://colab.research.google.com/assets/colab-badge.svg\" alt=\"Open In Colab\"/></a>"
      ]
    },
    {
      "cell_type": "markdown",
      "metadata": {
        "id": "VRIrqOy40ExK",
        "colab_type": "text"
      },
      "source": [
        "# AIP2 Lab. : PyTorch - Tensor Manipulation"
      ]
    },
    {
      "cell_type": "markdown",
      "metadata": {
        "id": "FU6wxsQ80ExO",
        "colab_type": "text"
      },
      "source": [
        "First Author: Seungjae Ryan Lee (seungjaeryanlee at gmail dot com)\n",
        "Second Author: Ki Hyun Kim (nlp.with.deep.learning at gmail dot com)"
      ]
    },
    {
      "cell_type": "markdown",
      "metadata": {
        "id": "ruwSlMYj0ExQ",
        "colab_type": "text"
      },
      "source": [
        "## Imports"
      ]
    },
    {
      "cell_type": "code",
      "metadata": {
        "id": "VbFhjFba0ExV",
        "colab_type": "code",
        "colab": {}
      },
      "source": [
        "import numpy as np\n",
        "import torch"
      ],
      "execution_count": 0,
      "outputs": []
    },
    {
      "cell_type": "code",
      "metadata": {
        "id": "YXOZ0rpigeMd",
        "colab_type": "code",
        "colab": {
          "base_uri": "https://localhost:8080/",
          "height": 51
        },
        "outputId": "ef1b7d01-460a-4d61-d0c8-1b6bd2b57142"
      },
      "source": [
        "# converting numpy array to Torch tensors\n",
        "\n",
        "a = np.ones(5)\n",
        "\n",
        "b = torch.from_numpy(a)\n",
        "np.add(a, 2, out=a)\n",
        "\n",
        "print(a)\n",
        "print(b)"
      ],
      "execution_count": 4,
      "outputs": [
        {
          "output_type": "stream",
          "text": [
            "[3. 3. 3. 3. 3.]\n",
            "tensor([3., 3., 3., 3., 3.], dtype=torch.float64)\n"
          ],
          "name": "stdout"
        }
      ]
    },
    {
      "cell_type": "code",
      "metadata": {
        "id": "cu_tBPPPg_Qc",
        "colab_type": "code",
        "colab": {
          "base_uri": "https://localhost:8080/",
          "height": 34
        },
        "outputId": "31cbef93-bec2-4a60-cc48-0dd2793adae0"
      },
      "source": [
        "#Create tensor in Pytorch\n",
        "# tensor = torch.Tensor([1, 2, 3])\n",
        "tensor = torch.Tensor([1, 2, 3]) \n",
        "print(tensor, tensor.dim(), tensor.shape, tensor.size())"
      ],
      "execution_count": 10,
      "outputs": [
        {
          "output_type": "stream",
          "text": [
            "tensor([1., 2., 3.]) 1 torch.Size([3]) torch.Size([3])\n"
          ],
          "name": "stdout"
        }
      ]
    },
    {
      "cell_type": "markdown",
      "metadata": {
        "id": "3UvQCgO50Exj",
        "colab_type": "text"
      },
      "source": [
        "## NumPy Review"
      ]
    },
    {
      "cell_type": "markdown",
      "metadata": {
        "id": "87Pte7oY0Exl",
        "colab_type": "text"
      },
      "source": [
        "We hope that you are familiar with `numpy` and basic linear algebra."
      ]
    },
    {
      "cell_type": "markdown",
      "metadata": {
        "id": "rv9iLt300Exm",
        "colab_type": "text"
      },
      "source": [
        "### 1D Array with NumPy"
      ]
    },
    {
      "cell_type": "code",
      "metadata": {
        "id": "xtOWMY0t0Exp",
        "colab_type": "code",
        "outputId": "93444376-47e4-42a3-88ec-744c2fb0d52d",
        "colab": {
          "base_uri": "https://localhost:8080/",
          "height": 34
        }
      },
      "source": [
        "t = np.array([0., 1., 2., 3., 4., 5., 6.])\n",
        "print(t)"
      ],
      "execution_count": 11,
      "outputs": [
        {
          "output_type": "stream",
          "text": [
            "[0. 1. 2. 3. 4. 5. 6.]\n"
          ],
          "name": "stdout"
        }
      ]
    },
    {
      "cell_type": "code",
      "metadata": {
        "id": "kCX1xfJB0Ex5",
        "colab_type": "code",
        "outputId": "00cb186b-17ce-43ce-bbeb-38b09ac16e37",
        "colab": {
          "base_uri": "https://localhost:8080/",
          "height": 51
        }
      },
      "source": [
        "print('Rank  of t: ', t.ndim)\n",
        "print('Shape of t: ', t.shape)"
      ],
      "execution_count": 12,
      "outputs": [
        {
          "output_type": "stream",
          "text": [
            "Rank  of t:  1\n",
            "Shape of t:  (7,)\n"
          ],
          "name": "stdout"
        }
      ]
    },
    {
      "cell_type": "code",
      "metadata": {
        "id": "xZJfTuXV0EyF",
        "colab_type": "code",
        "colab": {
          "base_uri": "https://localhost:8080/",
          "height": 68
        },
        "outputId": "eec2a787-e00f-438b-dc89-2661c1c4570d"
      },
      "source": [
        "'''\n",
        "We can use negative indexing in pytorch\n",
        "'''\n",
        "print('t[0] t[1] t[-1] = ', t[0], t[1], t[-1]) # Element\n",
        "print('t[2:5] t[4:-1]  = ', t[2:5], t[4:-1])   # Slicing\n",
        "print('t[:2] t[3:]     = ', t[:2], t[3:])      # Slicing"
      ],
      "execution_count": 14,
      "outputs": [
        {
          "output_type": "stream",
          "text": [
            "t[0] t[1] t[-1] =  0.0 1.0 6.0\n",
            "t[2:5] t[4:-1]  =  [2. 3. 4.] [4. 5.]\n",
            "t[:2] t[3:]     =  [0. 1.] [3. 4. 5. 6.]\n"
          ],
          "name": "stdout"
        }
      ]
    },
    {
      "cell_type": "markdown",
      "metadata": {
        "id": "ovxDn_j80EyO",
        "colab_type": "text"
      },
      "source": [
        "### 2D Array with NumPy"
      ]
    },
    {
      "cell_type": "code",
      "metadata": {
        "id": "xJCV_nuj0EyP",
        "colab_type": "code",
        "colab": {
          "base_uri": "https://localhost:8080/",
          "height": 68
        },
        "outputId": "01dfdeff-9976-4554-c443-d49a1a18e31f"
      },
      "source": [
        "np_arr = np.array([\n",
        "                   [1, 2, 3],\n",
        "                   [5,6, 3],\n",
        "                   [3, 6, 5]\n",
        "])\n",
        "\n",
        "print(np_arr, np_arr.shape)"
      ],
      "execution_count": 16,
      "outputs": [
        {
          "output_type": "stream",
          "text": [
            "[[1 2 3]\n",
            " [5 6 3]\n",
            " [3 6 5]] (3, 3)\n"
          ],
          "name": "stdout"
        }
      ]
    },
    {
      "cell_type": "markdown",
      "metadata": {
        "id": "DWxFCX210Eyc",
        "colab_type": "text"
      },
      "source": [
        "\n",
        "\n",
        "## PyTorch is like NumPy (but better)"
      ]
    },
    {
      "cell_type": "markdown",
      "metadata": {
        "id": "BqL4CpVd0Eyg",
        "colab_type": "text"
      },
      "source": [
        "### 1D Array with PyTorch"
      ]
    },
    {
      "cell_type": "code",
      "metadata": {
        "id": "KS1lrhiS0Eyk",
        "colab_type": "code",
        "outputId": "e19a28a8-e71e-4c6b-f8b0-ad9bb4f97ec8",
        "colab": {
          "base_uri": "https://localhost:8080/",
          "height": 34
        }
      },
      "source": [
        "t = torch.FloatTensor([0., 1., 2., 3., 4., 5., 6.])\n",
        "print(t)"
      ],
      "execution_count": 0,
      "outputs": [
        {
          "output_type": "stream",
          "text": [
            "tensor([0., 1., 2., 3., 4., 5., 6.])\n"
          ],
          "name": "stdout"
        }
      ]
    },
    {
      "cell_type": "code",
      "metadata": {
        "scrolled": true,
        "id": "a193_c7U0Eyv",
        "colab_type": "code",
        "outputId": "b9c0a130-8b24-4ea4-fc22-51ccc44b8168",
        "colab": {
          "base_uri": "https://localhost:8080/",
          "height": 119
        }
      },
      "source": [
        "print(t.dim())  # rank\n",
        "print(t.shape)  # shape\n",
        "print(t.size()) # shape\n",
        "print(t[0], t[1], t[-1])  # Element\n",
        "print(t[2:5], t[4:-1])    # Slicing\n",
        "print(t[:2], t[3:])       # Slicing"
      ],
      "execution_count": 0,
      "outputs": [
        {
          "output_type": "stream",
          "text": [
            "1\n",
            "torch.Size([7])\n",
            "torch.Size([7])\n",
            "tensor(0.) tensor(1.) tensor(6.)\n",
            "tensor([2., 3., 4.]) tensor([4., 5.])\n",
            "tensor([0., 1.]) tensor([3., 4., 5., 6.])\n"
          ],
          "name": "stdout"
        }
      ]
    },
    {
      "cell_type": "markdown",
      "metadata": {
        "id": "FeHzVlAg0Ey3",
        "colab_type": "text"
      },
      "source": [
        "### 2D Array with PyTorch"
      ]
    },
    {
      "cell_type": "code",
      "metadata": {
        "id": "4N4ayCZT0Ey5",
        "colab_type": "code",
        "outputId": "2142950c-78c2-4cf3-daaa-618556e9e03e",
        "colab": {
          "base_uri": "https://localhost:8080/",
          "height": 85
        }
      },
      "source": [
        "t = torch.FloatTensor([[1., 2., 3.],\n",
        "                       [4., 5., 6.],\n",
        "                       [7., 8., 9.],\n",
        "                       [10., 11., 12.]\n",
        "                      ])\n",
        "print(t)"
      ],
      "execution_count": 17,
      "outputs": [
        {
          "output_type": "stream",
          "text": [
            "tensor([[ 1.,  2.,  3.],\n",
            "        [ 4.,  5.,  6.],\n",
            "        [ 7.,  8.,  9.],\n",
            "        [10., 11., 12.]])\n"
          ],
          "name": "stdout"
        }
      ]
    },
    {
      "cell_type": "code",
      "metadata": {
        "id": "Y4m_tfc60EzD",
        "colab_type": "code",
        "colab": {
          "base_uri": "https://localhost:8080/",
          "height": 34
        },
        "outputId": "08b022c5-540c-4b50-c01d-34f0aa95812b"
      },
      "source": [
        "print(\n",
        "    t.shape,\n",
        "t.dim(),\n",
        "len(t)\n",
        ")\n"
      ],
      "execution_count": 20,
      "outputs": [
        {
          "output_type": "stream",
          "text": [
            "torch.Size([4, 3]) 2 4\n"
          ],
          "name": "stdout"
        }
      ]
    },
    {
      "cell_type": "markdown",
      "metadata": {
        "id": "ripZYG960EzO",
        "colab_type": "text"
      },
      "source": [
        "### Shape, Rank, Axis"
      ]
    },
    {
      "cell_type": "code",
      "metadata": {
        "id": "2ly05YWM0EzS",
        "colab_type": "code",
        "colab": {
          "base_uri": "https://localhost:8080/",
          "height": 170
        },
        "outputId": "9bfd9854-6421-4c76-b578-1d35d587797f"
      },
      "source": [
        "t = torch.FloatTensor([[[[1, 2, 3, 4],\n",
        "                         [5, 6, 7, 8],\n",
        "                         [9, 10, 11, 12]],\n",
        "                       [[13, 14, 15, 16],\n",
        "                        [17, 18, 19, 20],\n",
        "                        [21, 22, 23, 24]]\n",
        "                       ]])\n",
        "print(t)\n",
        "\n",
        "print(t.dim(), '\\n', t.size, t.shape)"
      ],
      "execution_count": 23,
      "outputs": [
        {
          "output_type": "stream",
          "text": [
            "tensor([[[[ 1.,  2.,  3.,  4.],\n",
            "          [ 5.,  6.,  7.,  8.],\n",
            "          [ 9., 10., 11., 12.]],\n",
            "\n",
            "         [[13., 14., 15., 16.],\n",
            "          [17., 18., 19., 20.],\n",
            "          [21., 22., 23., 24.]]]])\n",
            "4 \n",
            " <built-in method size of Tensor object at 0x7f8ced08eb88> torch.Size([1, 2, 3, 4])\n"
          ],
          "name": "stdout"
        }
      ]
    },
    {
      "cell_type": "code",
      "metadata": {
        "id": "l1238dEX0Ezf",
        "colab_type": "code",
        "colab": {}
      },
      "source": [
        "# rank  = 4\n",
        "# shape = (1, 2, 3, 4)"
      ],
      "execution_count": 0,
      "outputs": []
    },
    {
      "cell_type": "markdown",
      "metadata": {
        "id": "2pqLVdyF0Ezl",
        "colab_type": "text"
      },
      "source": [
        "## Frequently Used Operations in PyTorch"
      ]
    },
    {
      "cell_type": "markdown",
      "metadata": {
        "id": "bwKdpcHx0Ezm",
        "colab_type": "text"
      },
      "source": [
        "### Mul vs. Matmul"
      ]
    },
    {
      "cell_type": "code",
      "metadata": {
        "id": "Tcue_Njh0Ezo",
        "colab_type": "code",
        "outputId": "a285e38d-84f3-43ab-bda0-644ead2004d5",
        "colab": {
          "base_uri": "https://localhost:8080/",
          "height": 153
        }
      },
      "source": [
        "m1 = torch.FloatTensor([[1, 2], [3, 4]])\n",
        "m2 = torch.FloatTensor([[1], [2]])\n",
        "print('Shape of Matrix 1: ', m1.shape) # 2 x 2\n",
        "print('Shape of Matrix 2: ', m2.shape) # 2 x 1\n",
        "print(m1 * m2) # 2 x 2\n",
        "print(m1.mul(m2))\n",
        "print(m1.matmul(m2))"
      ],
      "execution_count": 25,
      "outputs": [
        {
          "output_type": "stream",
          "text": [
            "Shape of Matrix 1:  torch.Size([2, 2])\n",
            "Shape of Matrix 2:  torch.Size([2, 1])\n",
            "tensor([[1., 2.],\n",
            "        [6., 8.]])\n",
            "tensor([[1., 2.],\n",
            "        [6., 8.]])\n",
            "tensor([[ 5.],\n",
            "        [11.]])\n"
          ],
          "name": "stdout"
        }
      ]
    },
    {
      "cell_type": "markdown",
      "metadata": {
        "id": "wOvyiqoA0Ez3",
        "colab_type": "text"
      },
      "source": [
        "### Broadcasting"
      ]
    },
    {
      "cell_type": "code",
      "metadata": {
        "id": "VFDNGoZP0Ez6",
        "colab_type": "code",
        "outputId": "167913ae-7240-436f-a0f7-fe78cea07f1b",
        "colab": {
          "base_uri": "https://localhost:8080/",
          "height": 51
        }
      },
      "source": [
        "# Same shape\n",
        "m1 = torch.FloatTensor([[3, 3]])\n",
        "m2 = torch.FloatTensor([[2, 2]])\n",
        "\n",
        "print(m1.shape)\n",
        "\n",
        "result = m1 + m2\n",
        "print(result.shape)"
      ],
      "execution_count": 27,
      "outputs": [
        {
          "output_type": "stream",
          "text": [
            "torch.Size([1, 2])\n",
            "torch.Size([1, 2])\n"
          ],
          "name": "stdout"
        }
      ]
    },
    {
      "cell_type": "code",
      "metadata": {
        "id": "Nmxbatin0E0E",
        "colab_type": "code",
        "outputId": "a0425d6e-1b83-4536-f695-1954ca2669fc",
        "colab": {
          "base_uri": "https://localhost:8080/",
          "height": 102
        }
      },
      "source": [
        "# Vector + scalar\n",
        "m1 = torch.FloatTensor([[1, 2]])\n",
        "m2 = torch.FloatTensor([3]) # 3 -> [[3, 3]]\n",
        "print(m1.shape)\n",
        "print(m2.shape)\n",
        "x = m2.shape\n",
        "print(x)\n",
        "print(len(m1), len(m2))\n",
        "m3 = m1 + m2\n",
        "print(m3.shape)"
      ],
      "execution_count": 31,
      "outputs": [
        {
          "output_type": "stream",
          "text": [
            "torch.Size([1, 2])\n",
            "torch.Size([1])\n",
            "torch.Size([1])\n",
            "1 1\n",
            "torch.Size([1, 2])\n"
          ],
          "name": "stdout"
        }
      ]
    },
    {
      "cell_type": "code",
      "metadata": {
        "id": "VhcwcjLU0E0P",
        "colab_type": "code",
        "outputId": "acca397f-5c5d-4e2d-9333-a0039e260dc8",
        "colab": {
          "base_uri": "https://localhost:8080/",
          "height": 136
        }
      },
      "source": [
        "# 2 x 1 Vector + 1 x 2 Vector\n",
        "m1 = torch.FloatTensor([[1, 2]])\n",
        "m2 = torch.FloatTensor([[3], [4]])\n",
        "print(m1 + m2)\n",
        "print(m1.shape)\n",
        "print(m2.shape)\n",
        "x = m2.shape\n",
        "print(x)\n",
        "print(len(m1), len(m2))\n",
        "m3 = m1 + m2\n",
        "print(m3.shape)"
      ],
      "execution_count": 32,
      "outputs": [
        {
          "output_type": "stream",
          "text": [
            "tensor([[4., 5.],\n",
            "        [5., 6.]])\n",
            "torch.Size([1, 2])\n",
            "torch.Size([2, 1])\n",
            "torch.Size([2, 1])\n",
            "1 2\n",
            "torch.Size([2, 2])\n"
          ],
          "name": "stdout"
        }
      ]
    },
    {
      "cell_type": "markdown",
      "metadata": {
        "id": "M2Sv2gKB0E0e",
        "colab_type": "text"
      },
      "source": [
        "### Mean"
      ]
    },
    {
      "cell_type": "code",
      "metadata": {
        "id": "EvNJgKkx0E0f",
        "colab_type": "code",
        "outputId": "021cf55e-5828-407a-dca2-9d96f4704449",
        "colab": {
          "base_uri": "https://localhost:8080/",
          "height": 34
        }
      },
      "source": [
        "t = torch.FloatTensor([1, 2])\n",
        "# print(t.mean())\n",
        "# print(t.mode())\n",
        "# print(t, t.dim(), t.size())\n",
        "\n",
        "try:\n",
        "  print(t.men())\n",
        "except Exception as e:\n",
        "  print(e)"
      ],
      "execution_count": 37,
      "outputs": [
        {
          "output_type": "stream",
          "text": [
            "'Tensor' object has no attribute 'men'\n"
          ],
          "name": "stdout"
        }
      ]
    },
    {
      "cell_type": "code",
      "metadata": {
        "id": "rkSMeb9F0E0m",
        "colab_type": "code",
        "outputId": "920352f4-2f20-449f-bd81-1358c8655cb0",
        "colab": {
          "base_uri": "https://localhost:8080/",
          "height": 51
        }
      },
      "source": [
        "t = torch.FloatTensor([[1, 2], [3, 4]])\n",
        "print(t)"
      ],
      "execution_count": 38,
      "outputs": [
        {
          "output_type": "stream",
          "text": [
            "tensor([[1., 2.],\n",
            "        [3., 4.]])\n"
          ],
          "name": "stdout"
        }
      ]
    },
    {
      "cell_type": "markdown",
      "metadata": {
        "id": "VWF7JnlI0E0t",
        "colab_type": "text"
      },
      "source": [
        "### Sum"
      ]
    },
    {
      "cell_type": "code",
      "metadata": {
        "id": "bEdDneKY0E0u",
        "colab_type": "code",
        "outputId": "fe44dea5-0a7c-419d-a672-e0b24d949a6f",
        "colab": {
          "base_uri": "https://localhost:8080/",
          "height": 51
        }
      },
      "source": [
        "t = torch.FloatTensor([[1, 2], [3, 4]])\n",
        "print(t)"
      ],
      "execution_count": 39,
      "outputs": [
        {
          "output_type": "stream",
          "text": [
            "tensor([[1., 2.],\n",
            "        [3., 4.]])\n"
          ],
          "name": "stdout"
        }
      ]
    },
    {
      "cell_type": "code",
      "metadata": {
        "id": "_vYBzWLt0E01",
        "colab_type": "code",
        "outputId": "9fc6ba1f-a553-4dc7-b7ee-79e5dffbdf0b",
        "colab": {
          "base_uri": "https://localhost:8080/",
          "height": 34
        }
      },
      "source": [
        "print(t.sum())\n"
      ],
      "execution_count": 40,
      "outputs": [
        {
          "output_type": "stream",
          "text": [
            "tensor(10.)\n"
          ],
          "name": "stdout"
        }
      ]
    },
    {
      "cell_type": "markdown",
      "metadata": {
        "id": "CpQSdu9-0E0_",
        "colab_type": "text"
      },
      "source": [
        "### Max and Argmax"
      ]
    },
    {
      "cell_type": "code",
      "metadata": {
        "id": "xZCKJduv0E1A",
        "colab_type": "code",
        "outputId": "1654749a-edb8-485f-c8ca-77994851bf3c",
        "colab": {
          "base_uri": "https://localhost:8080/",
          "height": 51
        }
      },
      "source": [
        "t = torch.FloatTensor([[1, 2], [3, 4]])\n",
        "print(t)"
      ],
      "execution_count": 41,
      "outputs": [
        {
          "output_type": "stream",
          "text": [
            "tensor([[1., 2.],\n",
            "        [3., 4.]])\n"
          ],
          "name": "stdout"
        }
      ]
    },
    {
      "cell_type": "markdown",
      "metadata": {
        "id": "fHK87LSh0E1U",
        "colab_type": "text"
      },
      "source": [
        "The `max` operator returns one value if it is called without an argument."
      ]
    },
    {
      "cell_type": "code",
      "metadata": {
        "id": "4Y6SaZo00E1W",
        "colab_type": "code",
        "outputId": "c4c5929b-54d2-4525-c27d-34237d0dc0b1",
        "colab": {
          "base_uri": "https://localhost:8080/",
          "height": 34
        }
      },
      "source": [
        "print(t.max()) # Returns one value: max"
      ],
      "execution_count": 42,
      "outputs": [
        {
          "output_type": "stream",
          "text": [
            "tensor(4.)\n"
          ],
          "name": "stdout"
        }
      ]
    },
    {
      "cell_type": "markdown",
      "metadata": {
        "id": "suSHgPZ70E1h",
        "colab_type": "text"
      },
      "source": [
        "The `max` operator returns 2 values when called with dimension specified. The first value is the maximum value, and the second value is the argmax: the index of the element with maximum value."
      ]
    },
    {
      "cell_type": "code",
      "metadata": {
        "id": "WrbWi4pz0E1k",
        "colab_type": "code",
        "outputId": "363bd63d-0c2c-49e7-b6d4-6f96a8388b39",
        "colab": {
          "base_uri": "https://localhost:8080/",
          "height": 102
        }
      },
      "source": [
        "print(t.max(dim=0)) # Returns two values: max and argmax\n",
        "print('Max: ', t.max(dim=0)[0])\n",
        "print('Argmax: ', t.max(dim=0)[1])"
      ],
      "execution_count": 43,
      "outputs": [
        {
          "output_type": "stream",
          "text": [
            "torch.return_types.max(\n",
            "values=tensor([3., 4.]),\n",
            "indices=tensor([1, 1]))\n",
            "Max:  tensor([3., 4.])\n",
            "Argmax:  tensor([1, 1])\n"
          ],
          "name": "stdout"
        }
      ]
    },
    {
      "cell_type": "code",
      "metadata": {
        "id": "Cz5MgPJe0E1s",
        "colab_type": "code",
        "outputId": "4a77ce19-6bde-48bc-d3a5-434a49e82eac",
        "colab": {
          "base_uri": "https://localhost:8080/",
          "height": 119
        }
      },
      "source": [
        "print(t.max(dim=1))\n",
        "print(t.max(dim=-1))"
      ],
      "execution_count": 44,
      "outputs": [
        {
          "output_type": "stream",
          "text": [
            "torch.return_types.max(\n",
            "values=tensor([2., 4.]),\n",
            "indices=tensor([1, 1]))\n",
            "torch.return_types.max(\n",
            "values=tensor([2., 4.]),\n",
            "indices=tensor([1, 1]))\n"
          ],
          "name": "stdout"
        }
      ]
    },
    {
      "cell_type": "markdown",
      "metadata": {
        "id": "To7Cj_UD0E18",
        "colab_type": "text"
      },
      "source": [
        "### View"
      ]
    },
    {
      "cell_type": "code",
      "metadata": {
        "id": "FypLOpzD0E1-",
        "colab_type": "code",
        "outputId": "8bbb615d-44bd-4d6a-887d-6edef4aa9619",
        "colab": {
          "base_uri": "https://localhost:8080/",
          "height": 204
        }
      },
      "source": [
        "t = np.array([[[0, 1, 2],\n",
        "               [3, 4, 5]],\n",
        "\n",
        "              [[6, 7, 8],\n",
        "               [9, 10, 11]]])\n",
        "\n",
        "print(t,  t.ndim, t.shape )\n",
        "ft = torch.FloatTensor(t)\n",
        "print(ft.shape)\n",
        "print(ft.share_memory_)"
      ],
      "execution_count": 48,
      "outputs": [
        {
          "output_type": "stream",
          "text": [
            "[[[ 0  1  2]\n",
            "  [ 3  4  5]]\n",
            "\n",
            " [[ 6  7  8]\n",
            "  [ 9 10 11]]] 3 (2, 2, 3)\n",
            "torch.Size([2, 2, 3])\n",
            "<bound method Tensor.share_memory_ of tensor([[[ 0.,  1.,  2.],\n",
            "         [ 3.,  4.,  5.]],\n",
            "\n",
            "        [[ 6.,  7.,  8.],\n",
            "         [ 9., 10., 11.]]])>\n"
          ],
          "name": "stdout"
        }
      ]
    },
    {
      "cell_type": "code",
      "metadata": {
        "id": "rnuwuL770E2F",
        "colab_type": "code",
        "outputId": "e452327f-2627-4ad5-86a5-f472496b0187",
        "colab": {
          "base_uri": "https://localhost:8080/",
          "height": 102
        }
      },
      "source": [
        "print(ft.view([-1, 3]))\n",
        "print(ft.view([-1, 3]).shape)"
      ],
      "execution_count": 49,
      "outputs": [
        {
          "output_type": "stream",
          "text": [
            "tensor([[ 0.,  1.,  2.],\n",
            "        [ 3.,  4.,  5.],\n",
            "        [ 6.,  7.,  8.],\n",
            "        [ 9., 10., 11.]])\n",
            "torch.Size([4, 3])\n"
          ],
          "name": "stdout"
        }
      ]
    },
    {
      "cell_type": "code",
      "metadata": {
        "id": "6_fP9mfv0E2O",
        "colab_type": "code",
        "outputId": "d720abb9-87ec-46b6-ac2a-a3409614623d",
        "colab": {
          "base_uri": "https://localhost:8080/",
          "height": 153
        }
      },
      "source": [
        "print(ft.view([-1, 1, 3]))\n",
        "print(ft.view([-1, 1, 3]).shape)"
      ],
      "execution_count": 50,
      "outputs": [
        {
          "output_type": "stream",
          "text": [
            "tensor([[[ 0.,  1.,  2.]],\n",
            "\n",
            "        [[ 3.,  4.,  5.]],\n",
            "\n",
            "        [[ 6.,  7.,  8.]],\n",
            "\n",
            "        [[ 9., 10., 11.]]])\n",
            "torch.Size([4, 1, 3])\n"
          ],
          "name": "stdout"
        }
      ]
    },
    {
      "cell_type": "markdown",
      "metadata": {
        "id": "dsersd2i0E2Y",
        "colab_type": "text"
      },
      "source": [
        "### Scatter (for one-hot encoding)"
      ]
    },
    {
      "cell_type": "code",
      "metadata": {
        "id": "wB5V_WIh0E2Z",
        "colab_type": "code",
        "outputId": "4dbfe56d-a81e-4515-e356-4fb01a2f1470",
        "colab": {
          "base_uri": "https://localhost:8080/",
          "height": 85
        }
      },
      "source": [
        "lt = torch.LongTensor([[0], [1], [2], [0]])\n",
        "print(lt)"
      ],
      "execution_count": 51,
      "outputs": [
        {
          "output_type": "stream",
          "text": [
            "tensor([[0],\n",
            "        [1],\n",
            "        [2],\n",
            "        [0]])\n"
          ],
          "name": "stdout"
        }
      ]
    },
    {
      "cell_type": "code",
      "metadata": {
        "id": "TTI_BQxl0E2f",
        "colab_type": "code",
        "outputId": "d2f82dc9-44ba-4a9f-8c7c-6a72479bffb6",
        "colab": {
          "base_uri": "https://localhost:8080/",
          "height": 85
        }
      },
      "source": [
        "one_hot = torch.zeros(4, 3) # batch_size = 4, classes = 3\n",
        "one_hot.scatter_(1, lt, 1)\n",
        "print(one_hot)"
      ],
      "execution_count": 52,
      "outputs": [
        {
          "output_type": "stream",
          "text": [
            "tensor([[1., 0., 0.],\n",
            "        [0., 1., 0.],\n",
            "        [0., 0., 1.],\n",
            "        [1., 0., 0.]])\n"
          ],
          "name": "stdout"
        }
      ]
    },
    {
      "cell_type": "markdown",
      "metadata": {
        "id": "ax_vsFId0E2s",
        "colab_type": "text"
      },
      "source": [
        "### Casting"
      ]
    },
    {
      "cell_type": "code",
      "metadata": {
        "id": "hg70qVNv0E2t",
        "colab_type": "code",
        "outputId": "26246c95-d62c-4411-8d94-685c6311895d",
        "colab": {
          "base_uri": "https://localhost:8080/",
          "height": 34
        }
      },
      "source": [
        "lt = torch.LongTensor([1, 2, 3, 4])\n",
        "print(lt)"
      ],
      "execution_count": 53,
      "outputs": [
        {
          "output_type": "stream",
          "text": [
            "tensor([1, 2, 3, 4])\n"
          ],
          "name": "stdout"
        }
      ]
    },
    {
      "cell_type": "code",
      "metadata": {
        "id": "D684XLzG0E21",
        "colab_type": "code",
        "outputId": "700d7faf-cff6-4598-a7bb-f068f246774a",
        "colab": {
          "base_uri": "https://localhost:8080/",
          "height": 34
        }
      },
      "source": [
        "print(lt.float())"
      ],
      "execution_count": 54,
      "outputs": [
        {
          "output_type": "stream",
          "text": [
            "tensor([1., 2., 3., 4.])\n"
          ],
          "name": "stdout"
        }
      ]
    },
    {
      "cell_type": "code",
      "metadata": {
        "id": "BpeExuJ20E28",
        "colab_type": "code",
        "outputId": "a0095b02-8d48-4050-e9ba-2bac134b4730",
        "colab": {
          "base_uri": "https://localhost:8080/",
          "height": 34
        }
      },
      "source": [
        "bt = torch.ByteTensor([True, False, False, True])\n",
        "print(bt)"
      ],
      "execution_count": 55,
      "outputs": [
        {
          "output_type": "stream",
          "text": [
            "tensor([1, 0, 0, 1], dtype=torch.uint8)\n"
          ],
          "name": "stdout"
        }
      ]
    },
    {
      "cell_type": "code",
      "metadata": {
        "id": "nKuxfe_R0E3K",
        "colab_type": "code",
        "outputId": "d7d2e682-8b03-4c11-8d47-ef9d5e12a8dd",
        "colab": {
          "base_uri": "https://localhost:8080/",
          "height": 51
        }
      },
      "source": [
        "print(bt.long())\n",
        "print(bt.float())"
      ],
      "execution_count": 56,
      "outputs": [
        {
          "output_type": "stream",
          "text": [
            "tensor([1, 0, 0, 1])\n",
            "tensor([1., 0., 0., 1.])\n"
          ],
          "name": "stdout"
        }
      ]
    },
    {
      "cell_type": "markdown",
      "metadata": {
        "id": "_QLWg6Hu0E3f",
        "colab_type": "text"
      },
      "source": [
        "### Concatenation"
      ]
    },
    {
      "cell_type": "code",
      "metadata": {
        "id": "BOq1Pjp-0E3g",
        "colab_type": "code",
        "colab": {}
      },
      "source": [
        "x = torch.FloatTensor([[1, 2], [3, 4]])\n",
        "y = torch.FloatTensor([[5, 6], [7, 8]])"
      ],
      "execution_count": 0,
      "outputs": []
    },
    {
      "cell_type": "code",
      "metadata": {
        "id": "AxkXJhl_0E3r",
        "colab_type": "code",
        "outputId": "2b28b300-9265-41d2-af08-cace76b87bca",
        "colab": {
          "base_uri": "https://localhost:8080/",
          "height": 119
        }
      },
      "source": [
        "print(torch.cat([x, y], dim=0))\n",
        "print(torch.cat([x, y], dim=1))"
      ],
      "execution_count": 0,
      "outputs": [
        {
          "output_type": "stream",
          "text": [
            "tensor([[1., 2.],\n",
            "        [3., 4.],\n",
            "        [5., 6.],\n",
            "        [7., 8.]])\n",
            "tensor([[1., 2., 5., 6.],\n",
            "        [3., 4., 7., 8.]])\n"
          ],
          "name": "stdout"
        }
      ]
    },
    {
      "cell_type": "markdown",
      "metadata": {
        "id": "C6MEIoW90E31",
        "colab_type": "text"
      },
      "source": [
        "### Stacking"
      ]
    },
    {
      "cell_type": "code",
      "metadata": {
        "id": "RAv_GPpg0E33",
        "colab_type": "code",
        "colab": {
          "base_uri": "https://localhost:8080/",
          "height": 68
        },
        "outputId": "c7beaa35-77c2-4fa2-fd21-3862bd77d2af"
      },
      "source": [
        "x0 = torch.FloatTensor([1, 4])\n",
        "x1 = torch.FloatTensor([2, 5])\n",
        "x2 = torch.FloatTensor([3, 6])\n",
        "li = [x0, x1, x2]\n",
        "for i in li:\n",
        "  print(i, i.dim(), i.shape)\n"
      ],
      "execution_count": 59,
      "outputs": [
        {
          "output_type": "stream",
          "text": [
            "tensor([1., 4.]) 1 torch.Size([2])\n",
            "tensor([2., 5.]) 1 torch.Size([2])\n",
            "tensor([3., 6.]) 1 torch.Size([2])\n"
          ],
          "name": "stdout"
        }
      ]
    },
    {
      "cell_type": "code",
      "metadata": {
        "id": "x8AIPpuG0E4Q",
        "colab_type": "code",
        "outputId": "0b5fa4a8-ec34-4d61-b343-02170d44c52d",
        "colab": {
          "base_uri": "https://localhost:8080/",
          "height": 102
        }
      },
      "source": [
        "print(torch.stack([x, y, z]))\n",
        "print(torch.stack([x, y, z], dim=1))"
      ],
      "execution_count": 60,
      "outputs": [
        {
          "output_type": "stream",
          "text": [
            "tensor([[1., 4.],\n",
            "        [2., 5.],\n",
            "        [3., 6.]])\n",
            "tensor([[1., 2., 3.],\n",
            "        [4., 5., 6.]])\n"
          ],
          "name": "stdout"
        }
      ]
    },
    {
      "cell_type": "code",
      "metadata": {
        "id": "xde2VhD20E4Y",
        "colab_type": "code",
        "outputId": "2cdb2aa1-a312-459b-d962-2c5cd0f1e5b3",
        "colab": {
          "base_uri": "https://localhost:8080/",
          "height": 68
        }
      },
      "source": [
        "print(torch.cat([x.unsqueeze(0), y.unsqueeze(0), z.unsqueeze(0)], dim=0))"
      ],
      "execution_count": 61,
      "outputs": [
        {
          "output_type": "stream",
          "text": [
            "tensor([[1., 4.],\n",
            "        [2., 5.],\n",
            "        [3., 6.]])\n"
          ],
          "name": "stdout"
        }
      ]
    },
    {
      "cell_type": "markdown",
      "metadata": {
        "id": "Oodn3mlQ0E4e",
        "colab_type": "text"
      },
      "source": [
        "### Ones and Zeros Like"
      ]
    },
    {
      "cell_type": "code",
      "metadata": {
        "id": "fWqV1p3b0E4f",
        "colab_type": "code",
        "outputId": "a00ae761-7615-4e7a-d590-496d4d15a905",
        "colab": {
          "base_uri": "https://localhost:8080/",
          "height": 374
        }
      },
      "source": [
        "x = torch.FloatTensor([[0, 1, 2], [2, 1, 0]])\n",
        "print(x, '\\n\\n')\n",
        "\n",
        "print('Squeeze ')\n",
        "print(x.squeeze())\n",
        "print(x.squeeze().shape, '\\n\\n')\n",
        "\n",
        "print(' Unsqueeze')\n",
        "print(x.unsqueeze(-1))\n",
        "print('x.unsqueeze(-2):', x.unsqueeze(-2))\n",
        "\n",
        "\n",
        "\n"
      ],
      "execution_count": 81,
      "outputs": [
        {
          "output_type": "stream",
          "text": [
            "tensor([[0., 1., 2.],\n",
            "        [2., 1., 0.]]) \n",
            "\n",
            "\n",
            "Squeeze \n",
            "tensor([[0., 1., 2.],\n",
            "        [2., 1., 0.]])\n",
            "torch.Size([2, 3]) \n",
            "\n",
            "\n",
            " Unsqueeze\n",
            "tensor([[[0.],\n",
            "         [1.],\n",
            "         [2.]],\n",
            "\n",
            "        [[2.],\n",
            "         [1.],\n",
            "         [0.]]])\n",
            "x.unsqueeze(-2): tensor([[[0., 1., 2.]],\n",
            "\n",
            "        [[2., 1., 0.]]])\n"
          ],
          "name": "stdout"
        }
      ]
    },
    {
      "cell_type": "code",
      "metadata": {
        "id": "X-oFndch0E4s",
        "colab_type": "code",
        "outputId": "02257de3-76cb-467a-cc25-a220c1f61215",
        "colab": {
          "base_uri": "https://localhost:8080/",
          "height": 85
        }
      },
      "source": [
        "print(torch.ones_like(x))\n",
        "print(torch.zeros_like(x))"
      ],
      "execution_count": 63,
      "outputs": [
        {
          "output_type": "stream",
          "text": [
            "tensor([[1., 1., 1.],\n",
            "        [1., 1., 1.]])\n",
            "tensor([[0., 0., 0.],\n",
            "        [0., 0., 0.]])\n"
          ],
          "name": "stdout"
        }
      ]
    },
    {
      "cell_type": "code",
      "metadata": {
        "id": "SH2WmchG1fbu",
        "colab_type": "code",
        "colab": {
          "base_uri": "https://localhost:8080/",
          "height": 1000
        },
        "outputId": "2328b1a7-0eb6-4352-970f-b51d522ebd3f"
      },
      "source": [
        "import torch.nn as nn\n",
        "import matplotlib.pyplot as plt\n",
        "from sklearn.linear_model import LinearRegression\n",
        "\n",
        "\n",
        "x =  torch.linspace(1, 50, 50).reshape(-1, 1) \n",
        "print(x, x.dim(), x.size())\n",
        "\n",
        "torch.manual_seed(60)\n",
        "e = torch.randint(-8, 9, (50, 1), dtype = torch.float)\n",
        "print(e, e.dim(), e.size())\n",
        "\n",
        "y = 2*x + 4 + e\n"
      ],
      "execution_count": 71,
      "outputs": [
        {
          "output_type": "stream",
          "text": [
            "tensor([[ 1.],\n",
            "        [ 2.],\n",
            "        [ 3.],\n",
            "        [ 4.],\n",
            "        [ 5.],\n",
            "        [ 6.],\n",
            "        [ 7.],\n",
            "        [ 8.],\n",
            "        [ 9.],\n",
            "        [10.],\n",
            "        [11.],\n",
            "        [12.],\n",
            "        [13.],\n",
            "        [14.],\n",
            "        [15.],\n",
            "        [16.],\n",
            "        [17.],\n",
            "        [18.],\n",
            "        [19.],\n",
            "        [20.],\n",
            "        [21.],\n",
            "        [22.],\n",
            "        [23.],\n",
            "        [24.],\n",
            "        [25.],\n",
            "        [26.],\n",
            "        [27.],\n",
            "        [28.],\n",
            "        [29.],\n",
            "        [30.],\n",
            "        [31.],\n",
            "        [32.],\n",
            "        [33.],\n",
            "        [34.],\n",
            "        [35.],\n",
            "        [36.],\n",
            "        [37.],\n",
            "        [38.],\n",
            "        [39.],\n",
            "        [40.],\n",
            "        [41.],\n",
            "        [42.],\n",
            "        [43.],\n",
            "        [44.],\n",
            "        [45.],\n",
            "        [46.],\n",
            "        [47.],\n",
            "        [48.],\n",
            "        [49.],\n",
            "        [50.]]) 2 torch.Size([50, 1])\n",
            "tensor([[-1.],\n",
            "        [-2.],\n",
            "        [-8.],\n",
            "        [-6.],\n",
            "        [ 5.],\n",
            "        [ 3.],\n",
            "        [-5.],\n",
            "        [ 1.],\n",
            "        [-5.],\n",
            "        [-1.],\n",
            "        [-3.],\n",
            "        [-2.],\n",
            "        [-1.],\n",
            "        [-6.],\n",
            "        [ 4.],\n",
            "        [ 3.],\n",
            "        [ 6.],\n",
            "        [ 8.],\n",
            "        [ 3.],\n",
            "        [ 4.],\n",
            "        [ 6.],\n",
            "        [ 4.],\n",
            "        [-4.],\n",
            "        [ 8.],\n",
            "        [-2.],\n",
            "        [-8.],\n",
            "        [ 7.],\n",
            "        [-2.],\n",
            "        [-8.],\n",
            "        [-7.],\n",
            "        [ 3.],\n",
            "        [-7.],\n",
            "        [ 7.],\n",
            "        [-3.],\n",
            "        [ 3.],\n",
            "        [ 1.],\n",
            "        [ 7.],\n",
            "        [ 3.],\n",
            "        [-2.],\n",
            "        [ 8.],\n",
            "        [ 8.],\n",
            "        [-3.],\n",
            "        [-8.],\n",
            "        [ 8.],\n",
            "        [ 7.],\n",
            "        [-6.],\n",
            "        [ 3.],\n",
            "        [ 6.],\n",
            "        [ 7.],\n",
            "        [ 6.]]) 2 torch.Size([50, 1])\n"
          ],
          "name": "stdout"
        }
      ]
    },
    {
      "cell_type": "markdown",
      "metadata": {
        "id": "bRu3H6s6wkVA",
        "colab_type": "text"
      },
      "source": [
        " **\n",
        " ***Regession line between points*****"
      ]
    },
    {
      "cell_type": "code",
      "metadata": {
        "id": "RBhTwkbvs5vX",
        "colab_type": "code",
        "colab": {
          "base_uri": "https://localhost:8080/",
          "height": 265
        },
        "outputId": "b25adaa6-5554-4bbd-9658-cc2cebcb1ff0"
      },
      "source": [
        "x = x.numpy()\n",
        "y = y.numpy() \n",
        "plt.scatter(x, y)\n",
        "linear_regressor = LinearRegression()  # create object for the class\n",
        "linear_regressor.fit(x, y)  # perform linear regression\n",
        "Y_pred = linear_regressor.predict(x)  # make predictions\n",
        "\n",
        "plt.plot(x, Y_pred, color='red')\n",
        "plt.show()"
      ],
      "execution_count": 72,
      "outputs": [
        {
          "output_type": "display_data",
          "data": {
            "image/png": "[encoded data removed]",
            "text/plain": [
              "<Figure size 432x288 with 1 Axes>"
            ]
          },
          "metadata": {
            "tags": [],
            "needs_background": "light"
          }
        }
      ]
    },
    {
      "cell_type": "code",
      "metadata": {
        "id": "VeElQsJVxDAC",
        "colab_type": "code",
        "colab": {}
      },
      "source": [
        ""
      ],
      "execution_count": 0,
      "outputs": []
    }
  ]
}
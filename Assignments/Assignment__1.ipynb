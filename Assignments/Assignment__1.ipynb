{
  "nbformat": 4,
  "nbformat_minor": 0,
  "metadata": {
    "kernelspec": {
      "display_name": "Python 3",
      "language": "python",
      "name": "python3"
    },
    "language_info": {
      "codemirror_mode": {
        "name": "ipython",
        "version": 3
      },
      "file_extension": ".py",
      "mimetype": "text/x-python",
      "name": "python",
      "nbconvert_exporter": "python",
      "pygments_lexer": "ipython3",
      "version": "3.7.4"
    },
    "colab": {
      "name": "Assignment_#1.ipynb",
      "provenance": [],
      "toc_visible": true,
      "include_colab_link": true
    }
  },
  "cells": [
    {
      "cell_type": "markdown",
      "metadata": {
        "id": "view-in-github",
        "colab_type": "text"
      },
      "source": [
        "<a href=\"https://colab.research.google.com/github/sayem1997/AIPII/blob/master/Assignments/Assignment__1.ipynb\" target=\"_parent\"><img src=\"https://colab.research.google.com/assets/colab-badge.svg\" alt=\"Open In Colab\"/></a>"
      ]
    },
    {
      "cell_type": "markdown",
      "metadata": {
        "id": "OjsbxxPguR1K",
        "colab_type": "text"
      },
      "source": [
        "# AIP2 Assignment 1\n",
        "## Function Practice Exercises\n",
        "\n",
        "## Subimssion method and Why do we have to ??: \n",
        "* I will explain in Lab. session.^^   "
      ]
    },
    {
      "cell_type": "markdown",
      "metadata": {
        "id": "RPNXjli6uR1L",
        "colab_type": "raw"
      },
      "source": [
        "Student Name:                      , Student Number: "
      ]
    },
    {
      "cell_type": "markdown",
      "metadata": {
        "id": "bRaFeHXwuR1M",
        "colab_type": "text"
      },
      "source": [
        "## Problem 1 (10 pts)"
      ]
    },
    {
      "cell_type": "markdown",
      "metadata": {
        "id": "UGgVkCDxuR1M",
        "colab_type": "text"
      },
      "source": [
        "Write code that, given x (an integer), returns the string \"three\" if x is a multiple of 3, \"five\" if x is a\n",
        "    multiple of 5 and the string \"threefive\" if x is a multiple of both 3 and 5.\n",
        "    If none of those conditions are true, simply return x.\n",
        "    You may assume that your input is an integer >= 1\n"
      ]
    },
    {
      "cell_type": "code",
      "metadata": {
        "id": "yDbjrJ8auR1N",
        "colab_type": "code",
        "outputId": "daf70bbc-bf3e-4146-e75a-34495b7ac9f5",
        "colab": {
          "base_uri": "https://localhost:8080/",
          "height": 34
        }
      },
      "source": [
        "def own_function(x):\n",
        "    \"\"\" Parameters\n",
        "        ----------\n",
        "        x : int\n",
        "            An integer > 0.\n",
        "        Returns\n",
        "        -------\n",
        "        Union[str, int]\n",
        "            Either \"three\", \"five\", \"threefive\", or x.\n",
        "    \"\"\"\n",
        "    # REMOVE \"pass\" AND WRITE YOUR CODE HERE\n",
        "    if x % 3 == 0 and x % 5 == 0: return 'threefive'\n",
        "    elif x % 3 == 0: return 'three'\n",
        "    elif x % 5 == 0: return 'five'\n",
        "    else: return 'x'"
      ],
      "execution_count": 0,
      "outputs": [
        {
          "output_type": "stream",
          "text": [
            "ERROR! Session/line number was not unique in database. History logging moved to new session 59\n"
          ],
          "name": "stdout"
        }
      ]
    },
    {
      "cell_type": "code",
      "metadata": {
        "id": "C145Bb_MuR1Q",
        "colab_type": "code",
        "outputId": "7daa3c78-7bb8-4592-b8f1-133d65c2bbce",
        "colab": {
          "base_uri": "https://localhost:8080/",
          "height": 34
        }
      },
      "source": [
        "# Check\n",
        "own_function(3)"
      ],
      "execution_count": 0,
      "outputs": [
        {
          "output_type": "execute_result",
          "data": {
            "text/plain": [
              "'three'"
            ]
          },
          "metadata": {
            "tags": []
          },
          "execution_count": 2
        }
      ]
    },
    {
      "cell_type": "code",
      "metadata": {
        "id": "8SHAbL-3uR1T",
        "colab_type": "code",
        "outputId": "9bea7e5a-cdf4-46d7-df47-ebaffe482020",
        "colab": {
          "base_uri": "https://localhost:8080/",
          "height": 34
        }
      },
      "source": [
        "# Check\n",
        "own_function(15)"
      ],
      "execution_count": 0,
      "outputs": [
        {
          "output_type": "execute_result",
          "data": {
            "text/plain": [
              "'threefive'"
            ]
          },
          "metadata": {
            "tags": []
          },
          "execution_count": 3
        }
      ]
    },
    {
      "cell_type": "code",
      "metadata": {
        "id": "2DOcs3l1uR1W",
        "colab_type": "code",
        "outputId": "0955c469-db8c-423d-c173-bbe129dce24a",
        "colab": {
          "base_uri": "https://localhost:8080/",
          "height": 34
        }
      },
      "source": [
        "# Check\n",
        "own_function(7)"
      ],
      "execution_count": 0,
      "outputs": [
        {
          "output_type": "execute_result",
          "data": {
            "text/plain": [
              "'x'"
            ]
          },
          "metadata": {
            "tags": []
          },
          "execution_count": 4
        }
      ]
    },
    {
      "cell_type": "markdown",
      "metadata": {
        "id": "6pyq8XCauR1Y",
        "colab_type": "text"
      },
      "source": [
        "## Problem 2 (10 pts)"
      ]
    },
    {
      "cell_type": "markdown",
      "metadata": {
        "id": "Z57uJ71HuR1Z",
        "colab_type": "text"
      },
      "source": [
        "#### FIND 33: \n",
        "\n",
        "Given a list of ints, return True if the array contains a 3 next to a 3 somewhere.\n",
        "\n",
        "    own_function([1, 3, 3]) → True\n",
        "    own_function([3, 1, 3]) → False\n",
        "    own_function([1, 3, 1, 3]) → False"
      ]
    },
    {
      "cell_type": "code",
      "metadata": {
        "id": "N_R4iGIGuR1Z",
        "colab_type": "code",
        "colab": {}
      },
      "source": [
        "def own_function(nums):\n",
        "    ''' \n",
        "    Wirte your codes in here\n",
        "    '''\n",
        "    # REMOVE \"pass\" AND WRITE YOUR CODE HERE\n",
        "    for i in range(0, len(nums) - 1):\n",
        "      if nums[i] == nums[i + 1] == 3:\n",
        "        return True\n",
        "    return False"
      ],
      "execution_count": 0,
      "outputs": []
    },
    {
      "cell_type": "code",
      "metadata": {
        "id": "FTWpo4-1uR1c",
        "colab_type": "code",
        "outputId": "318a58e4-7974-489c-e65b-75fdbf15581f",
        "colab": {
          "base_uri": "https://localhost:8080/",
          "height": 34
        }
      },
      "source": [
        "# Check\n",
        "own_function([1, 3, 3])"
      ],
      "execution_count": 0,
      "outputs": [
        {
          "output_type": "execute_result",
          "data": {
            "text/plain": [
              "True"
            ]
          },
          "metadata": {
            "tags": []
          },
          "execution_count": 15
        }
      ]
    },
    {
      "cell_type": "code",
      "metadata": {
        "id": "rC6EVMEyuR1g",
        "colab_type": "code",
        "outputId": "e45232ca-8616-4fe5-dc8f-88195b657721",
        "colab": {
          "base_uri": "https://localhost:8080/",
          "height": 34
        }
      },
      "source": [
        "# Check\n",
        "own_function([3, 1, 3])"
      ],
      "execution_count": 0,
      "outputs": [
        {
          "output_type": "execute_result",
          "data": {
            "text/plain": [
              "False"
            ]
          },
          "metadata": {
            "tags": []
          },
          "execution_count": 16
        }
      ]
    },
    {
      "cell_type": "code",
      "metadata": {
        "id": "mbDPxa5ByF3R",
        "colab_type": "code",
        "outputId": "9a126957-c7c3-401b-f079-bd331a8e4b2f",
        "colab": {
          "base_uri": "https://localhost:8080/",
          "height": 34
        }
      },
      "source": [
        "own_function([1, 3, 3])\n"
      ],
      "execution_count": 0,
      "outputs": [
        {
          "output_type": "execute_result",
          "data": {
            "text/plain": [
              "True"
            ]
          },
          "metadata": {
            "tags": []
          },
          "execution_count": 19
        }
      ]
    },
    {
      "cell_type": "markdown",
      "metadata": {
        "id": "iCTRKTHtuR1j",
        "colab_type": "text"
      },
      "source": [
        "## Problem 3 (10 pts)"
      ]
    },
    {
      "cell_type": "code",
      "metadata": {
        "id": "DoSyS_rzycUn",
        "colab_type": "code",
        "outputId": "5700ad67-d411-4664-88f6-d9942d188ccb",
        "colab": {
          "base_uri": "https://localhost:8080/",
          "height": 34
        }
      },
      "source": [
        "own_function([3, 1, 3])\n"
      ],
      "execution_count": 0,
      "outputs": [
        {
          "output_type": "execute_result",
          "data": {
            "text/plain": [
              "False"
            ]
          },
          "metadata": {
            "tags": []
          },
          "execution_count": 20
        }
      ]
    },
    {
      "cell_type": "code",
      "metadata": {
        "id": "fvXki21Syck9",
        "colab_type": "code",
        "outputId": "863e9b75-439c-405f-aaf5-2df2d41530c2",
        "colab": {
          "base_uri": "https://localhost:8080/",
          "height": 34
        }
      },
      "source": [
        "own_function([1, 3, 1, 3])"
      ],
      "execution_count": 0,
      "outputs": [
        {
          "output_type": "execute_result",
          "data": {
            "text/plain": [
              "False"
            ]
          },
          "metadata": {
            "tags": []
          },
          "execution_count": 21
        }
      ]
    },
    {
      "cell_type": "markdown",
      "metadata": {
        "id": "t2WEPoKquR1k",
        "colab_type": "text"
      },
      "source": [
        "Write code that, given `my_str`, returns True if that string is a palindrome,\n",
        "and False otherwise.\n",
        "A palindrome is a word/phrase that is the same backwards as forwards (e.g. \"aa\").\n",
        "Single-letter strings (e.g. \"I\") should be considered palindromes\n",
        "You may assume that the input is a valid, lower-case string. However, the string\n",
        "might have white-space, which you should remove.\n",
        "HINT: If the first and last letters don't match, you know for a fact that the string\n",
        "can't be a palidrome. Use your control flow tools to make your code more efficient\n",
        "by stopping execution as soon as you know the answer."
      ]
    },
    {
      "cell_type": "code",
      "metadata": {
        "id": "cBz3K8AHuR1k",
        "colab_type": "code",
        "colab": {}
      },
      "source": [
        "def own_function(my_str):\n",
        "    \"\"\" Parameters\n",
        "        ----------\n",
        "        my_str : str\n",
        "            The word/phrase to be analyzed\n",
        "        Returns\n",
        "        -------\n",
        "        True if my_str is a palindrome, False otherwise.\n",
        "    \"\"\"\n",
        "    # Remove 'pass' and place your code here\"\n",
        "    revised_str = ''\n",
        "    for i in my_str:\n",
        "      if i != ' ':\n",
        "        revised_str += i \n",
        "    if revised_str == revised_str[::-1]:\n",
        "      return True\n",
        "    return False"
      ],
      "execution_count": 0,
      "outputs": []
    },
    {
      "cell_type": "code",
      "metadata": {
        "id": "YSSosMonuR1m",
        "colab_type": "code",
        "outputId": "b014b604-5316-4adc-f5b4-2210a9070e7b",
        "colab": {
          "base_uri": "https://localhost:8080/",
          "height": 34
        }
      },
      "source": [
        "# Check\n",
        "own_function('evil is a deed as i live')"
      ],
      "execution_count": 0,
      "outputs": [
        {
          "output_type": "execute_result",
          "data": {
            "text/plain": [
              "True"
            ]
          },
          "metadata": {
            "tags": []
          },
          "execution_count": 26
        }
      ]
    },
    {
      "cell_type": "code",
      "metadata": {
        "id": "DutAIfImuR1p",
        "colab_type": "code",
        "outputId": "e174b7ef-73af-4879-e8d6-a1c8c8ea50df",
        "colab": {
          "base_uri": "https://localhost:8080/",
          "height": 34
        }
      },
      "source": [
        "# Check\n",
        "own_function('python')"
      ],
      "execution_count": 0,
      "outputs": [
        {
          "output_type": "execute_result",
          "data": {
            "text/plain": [
              "False"
            ]
          },
          "metadata": {
            "tags": []
          },
          "execution_count": 27
        }
      ]
    },
    {
      "cell_type": "markdown",
      "metadata": {
        "id": "5WH81YtJuR1t",
        "colab_type": "text"
      },
      "source": [
        "## Problem 4 (10 pts)"
      ]
    },
    {
      "cell_type": "markdown",
      "metadata": {
        "id": "yd9WCMLDuR1t",
        "colab_type": "text"
      },
      "source": [
        "#### BLACKJACK: Given three integers between 1 and 11, if their sum is less than or equal to 21, return their sum. If their sum exceeds 21 *and* there's an eleven, reduce the total sum by 10. Finally, if the sum (even after adjustment) exceeds 21, return 'BUST'\n",
        "    own_function(5,6,7) --> 18\n",
        "    own_function(9,9,11) --> 19\n",
        "    own_function(9,9,9) --> 'BUST'"
      ]
    },
    {
      "cell_type": "code",
      "metadata": {
        "id": "QyZxL5dzuR1u",
        "colab_type": "code",
        "colab": {}
      },
      "source": [
        "def own_function(a,b,c):\n",
        "    ''' \n",
        "    Wirte your codes in here\n",
        "    '''\n",
        "    # REMOVE \"pass\" AND WRITE YOUR CODE HERE    \n",
        "    total = a + b + c\n",
        "    if total <= 21:\n",
        "      return total\n",
        "    else:\n",
        "      if a == 11 or b == 11 or c == 11:\n",
        "        return total - 10\n",
        "      return 'BUST'"
      ],
      "execution_count": 0,
      "outputs": []
    },
    {
      "cell_type": "code",
      "metadata": {
        "id": "0vIZSQBhuR1x",
        "colab_type": "code",
        "outputId": "d7d96ae5-3207-4ccd-8c8f-dafb5e841792",
        "colab": {
          "base_uri": "https://localhost:8080/",
          "height": 34
        }
      },
      "source": [
        "# Check\n",
        "own_function(5,6,7)"
      ],
      "execution_count": 0,
      "outputs": [
        {
          "output_type": "execute_result",
          "data": {
            "text/plain": [
              "18"
            ]
          },
          "metadata": {
            "tags": []
          },
          "execution_count": 33
        }
      ]
    },
    {
      "cell_type": "code",
      "metadata": {
        "id": "Tc46Oaa0uR1z",
        "colab_type": "code",
        "outputId": "ea3ad7ba-437e-4465-de59-92aede3d0582",
        "colab": {
          "base_uri": "https://localhost:8080/",
          "height": 34
        }
      },
      "source": [
        "# Check\n",
        "own_function(9,9,9)"
      ],
      "execution_count": 0,
      "outputs": [
        {
          "output_type": "execute_result",
          "data": {
            "text/plain": [
              "'BUST'"
            ]
          },
          "metadata": {
            "tags": []
          },
          "execution_count": 34
        }
      ]
    },
    {
      "cell_type": "code",
      "metadata": {
        "id": "tk88zvrD3SWA",
        "colab_type": "code",
        "outputId": "f3325f2f-0f40-4339-e2d9-5890ddda94d7",
        "colab": {
          "base_uri": "https://localhost:8080/",
          "height": 34
        }
      },
      "source": [
        "own_function(9,9,11)"
      ],
      "execution_count": 0,
      "outputs": [
        {
          "output_type": "execute_result",
          "data": {
            "text/plain": [
              "19"
            ]
          },
          "metadata": {
            "tags": []
          },
          "execution_count": 35
        }
      ]
    },
    {
      "cell_type": "markdown",
      "metadata": {
        "id": "PWuLjQzbuR11",
        "colab_type": "text"
      },
      "source": [
        "## Problem 5 (10 pts)"
      ]
    },
    {
      "cell_type": "markdown",
      "metadata": {
        "id": "Mafle6E3uR11",
        "colab_type": "text"
      },
      "source": [
        "#### Solve a program to implement the formulae of Permutations and Combinations\n",
        "    permutation : n taken r at a time, permutation(n, r) = n!/(n-r)!\n",
        "    combination : n taken r at a time, combination(n, r) = c!/(n-r)!*r!"
      ]
    },
    {
      "cell_type": "code",
      "metadata": {
        "id": "IbZ-XMPzuR12",
        "colab_type": "code",
        "outputId": "96441990-3a02-4af5-b7c1-8386a873962a",
        "colab": {
          "base_uri": "https://localhost:8080/",
          "height": 85
        }
      },
      "source": [
        "import math   # built-in function \n",
        "# factorial function : math.factorial()\n",
        "def permutation(n, r) :\n",
        "    # function to calculate number of permutations of a number taken r at a time\n",
        "    # Remove 'pass' and place your code here\"\n",
        "    result = math.factorial(n)/math.factorial(n-r)\n",
        "    return result\n",
        "\n",
        "def combination(n, r) :\n",
        "    # function to calculate number of combinations of a number taken r at a time\n",
        "    # Remove 'pass' and place your code here\"\n",
        "    result = math.factorial(n)/(math.factorial(r) * math.factorial(n-r))\n",
        "    return result\n",
        "\n",
        "\n",
        "try : \n",
        "    n = int(input('Enter a number : '))\n",
        "    r = int( input('Enter another number : '))\n",
        "except (ValueError) : \n",
        "    print('Please enter an integer!')\n",
        "\n",
        "if(n >= r) :\n",
        "    print('Permutation : ', permutation(n,r))\n",
        "    print('Combination : ', combination(n,r))\n",
        "else :\n",
        "    print('Permutation and combination can\\'t be defined')\n"
      ],
      "execution_count": 0,
      "outputs": [
        {
          "output_type": "stream",
          "text": [
            "Enter a number : 25\n",
            "Enter another number : 6\n",
            "Permutation :  127512000.0\n",
            "Combination :  177100.0\n"
          ],
          "name": "stdout"
        }
      ]
    },
    {
      "cell_type": "code",
      "metadata": {
        "id": "_4Hf-HoHuR15",
        "colab_type": "code",
        "colab": {}
      },
      "source": [
        "# Check your result :: n = 25, r = 6 \n"
      ],
      "execution_count": 0,
      "outputs": []
    },
    {
      "cell_type": "code",
      "metadata": {
        "id": "yfDx02YmuR19",
        "colab_type": "code",
        "colab": {}
      },
      "source": [
        "# Check your result :: n = -1, r = 3\n"
      ],
      "execution_count": 0,
      "outputs": []
    },
    {
      "cell_type": "markdown",
      "metadata": {
        "id": "9iHaUum4uR1_",
        "colab_type": "text"
      },
      "source": [
        "## Good Job !!!  "
      ]
    },
    {
      "cell_type": "code",
      "metadata": {
        "id": "TpMDASX0uR1_",
        "colab_type": "code",
        "colab": {}
      },
      "source": [
        ""
      ],
      "execution_count": 0,
      "outputs": []
    }
  ]
}
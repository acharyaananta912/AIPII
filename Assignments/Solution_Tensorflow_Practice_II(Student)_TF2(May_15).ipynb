{
  "nbformat": 4,
  "nbformat_minor": 0,
  "metadata": {
    "kernelspec": {
      "display_name": "Python 3",
      "language": "python",
      "name": "python3"
    },
    "language_info": {
      "codemirror_mode": {
        "name": "ipython",
        "version": 3
      },
      "file_extension": ".py",
      "mimetype": "text/x-python",
      "name": "python",
      "nbconvert_exporter": "python",
      "pygments_lexer": "ipython3",
      "version": "3.7.4"
    },
    "colab": {
      "name": "Solution_Tensorflow_Practice_II(Student)_TF2(May_15).ipynb",
      "provenance": [],
      "collapsed_sections": [],
      "include_colab_link": true
    }
  },
  "cells": [
    {
      "cell_type": "markdown",
      "metadata": {
        "id": "view-in-github",
        "colab_type": "text"
      },
      "source": [
        "<a href=\"https://colab.research.google.com/github/sayem1997/AIPII/blob/master/Assignments/Solution_Tensorflow_Practice_II(Student)_TF2(May_15).ipynb\" target=\"_parent\"><img src=\"https://colab.research.google.com/assets/colab-badge.svg\" alt=\"Open In Colab\"/></a>"
      ]
    },
    {
      "cell_type": "markdown",
      "metadata": {
        "id": "Y0qypDZrw7kC",
        "colab_type": "text"
      },
      "source": [
        "## 1 Tensorflow"
      ]
    },
    {
      "cell_type": "code",
      "metadata": {
        "id": "_0T3OeDHw7kD",
        "colab_type": "code",
        "outputId": "e45a53ff-b7df-4bd1-c451-0654808114a4",
        "colab": {
          "base_uri": "https://localhost:8080/",
          "height": 35
        }
      },
      "source": [
        "import tensorflow as tf\n",
        "tf.__version__"
      ],
      "execution_count": 0,
      "outputs": [
        {
          "output_type": "execute_result",
          "data": {
            "text/plain": [
              "'2.2.0'"
            ]
          },
          "metadata": {
            "tags": []
          },
          "execution_count": 1
        }
      ]
    },
    {
      "cell_type": "markdown",
      "metadata": {
        "id": "PoS8aaySw7kG",
        "colab_type": "text"
      },
      "source": [
        "## 2 Our first tensorflow program: Hello world"
      ]
    },
    {
      "cell_type": "code",
      "metadata": {
        "id": "BadVvucFw7kH",
        "colab_type": "code",
        "outputId": "480b3ad9-fa0b-43a7-ef7d-98acbce64dd2",
        "colab": {
          "base_uri": "https://localhost:8080/",
          "height": 35
        }
      },
      "source": [
        "h = tf.constant(\"Hello\")\n",
        "w = tf.constant(\" world\")\n",
        "hw = h + w\n",
        "print(hw)"
      ],
      "execution_count": 0,
      "outputs": [
        {
          "output_type": "stream",
          "text": [
            "tf.Tensor(b'Hello world', shape=(), dtype=string)\n"
          ],
          "name": "stdout"
        }
      ]
    },
    {
      "cell_type": "markdown",
      "metadata": {
        "id": "ubW_PXwww7kJ",
        "colab_type": "text"
      },
      "source": [
        "## 3 Key concepts of Tensorflow\n",
        "- Computation graph\n",
        "- Execution"
      ]
    },
    {
      "cell_type": "markdown",
      "metadata": {
        "id": "_6RGPVxNw7kK",
        "colab_type": "text"
      },
      "source": [
        "## 4 Computation graph\n",
        "- Nodes & Edges\n",
        "- Operations\n",
        "- Benefits of graph computation"
      ]
    },
    {
      "cell_type": "markdown",
      "metadata": {
        "id": "mKKyJffTw7kK",
        "colab_type": "text"
      },
      "source": [
        "![Computation Graph](https://i.ibb.co/ct6r840/Cap-2020-05-14-08-07-08-859.jpg)"
      ]
    },
    {
      "cell_type": "markdown",
      "metadata": {
        "id": "Zj1uS0w1w7kL",
        "colab_type": "text"
      },
      "source": [
        "- We create 5 nodes assigned to arbitrarily named variables, a ~ e\n",
        "- The contents of these variables should be regarded as the output of the operation, not operation\n",
        "themselves\n",
        "- But for now we refer to both the output of the operation and operation themselves with the\n",
        "names of corresponding variables."
      ]
    },
    {
      "cell_type": "code",
      "metadata": {
        "id": "tt4M0OYDw7kL",
        "colab_type": "code",
        "colab": {}
      },
      "source": [
        "a = tf.constant(5)\n",
        "b = tf.constant(2)\n",
        "c = tf.constant(3)\n",
        "d = tf.multiply(a,b)\n",
        "e = tf.add(c,b)\n",
        "f = tf.subtract(d,e)"
      ],
      "execution_count": 0,
      "outputs": []
    },
    {
      "cell_type": "markdown",
      "metadata": {
        "id": "FoY90Ltbw7kN",
        "colab_type": "text"
      },
      "source": [
        "## 5 Execution"
      ]
    },
    {
      "cell_type": "code",
      "metadata": {
        "id": "Hg7I2a1mw7kO",
        "colab_type": "code",
        "outputId": "b79e6207-e2eb-450b-fc82-c6506fd81ccb",
        "colab": {
          "base_uri": "https://localhost:8080/",
          "height": 35
        }
      },
      "source": [
        "print(\"out = {}\".format(e))"
      ],
      "execution_count": 0,
      "outputs": [
        {
          "output_type": "stream",
          "text": [
            "out = 5\n"
          ],
          "name": "stdout"
        }
      ]
    },
    {
      "cell_type": "markdown",
      "metadata": {
        "id": "DmexDU1hw7kQ",
        "colab_type": "text"
      },
      "source": [
        "## 6 Creating a computation graph (deprecated)"
      ]
    },
    {
      "cell_type": "code",
      "metadata": {
        "id": "Rv55ayVGw7kQ",
        "colab_type": "code",
        "outputId": "14c3f48b-7b1e-4dd2-9042-66eae5993a0e",
        "colab": {}
      },
      "source": [
        "g1 = tf.Graph() # generate new graph\n",
        "print(g1)"
      ],
      "execution_count": 0,
      "outputs": [
        {
          "output_type": "stream",
          "text": [
            "<tensorflow.python.framework.ops.Graph object at 0x7f4050383860>\n"
          ],
          "name": "stdout"
        }
      ]
    },
    {
      "cell_type": "markdown",
      "metadata": {
        "id": "72PVQlGpw7kS",
        "colab_type": "text"
      },
      "source": [
        "## 7 What is Session? (deprecated)\n",
        "- Tensorflow’s computation system runs on GPUs which have independent memory system\n",
        "and calculators.\n",
        "- So, we need to associate python objects and data on our end with the computation system\n",
        "- Session object is a Tensorflow object for the association"
      ]
    },
    {
      "cell_type": "markdown",
      "metadata": {
        "id": "aZ91iEmVw7kT",
        "colab_type": "text"
      },
      "source": [
        "## 8 Execution (deprecated)"
      ]
    },
    {
      "cell_type": "markdown",
      "metadata": {
        "id": "H1_dvj3vw7kU",
        "colab_type": "text"
      },
      "source": [
        "## 9 Flowing Tensors\n",
        "- Node = Operation\n",
        "- Edge = Tensor"
      ]
    },
    {
      "cell_type": "code",
      "metadata": {
        "id": "XlHpxbWIw7kU",
        "colab_type": "code",
        "colab": {}
      },
      "source": [
        "# This operation creates actual operation instance and result\n",
        "f = tf.add(e, d) "
      ],
      "execution_count": 0,
      "outputs": []
    },
    {
      "cell_type": "code",
      "metadata": {
        "id": "_kaARKJvw7kW",
        "colab_type": "code",
        "outputId": "2a8f10a6-3e89-4f2b-f67e-8edc3551755f",
        "colab": {
          "base_uri": "https://localhost:8080/",
          "height": 35
        }
      },
      "source": [
        "print(f) # print computed actual value"
      ],
      "execution_count": 0,
      "outputs": [
        {
          "output_type": "stream",
          "text": [
            "tf.Tensor(15, shape=(), dtype=int32)\n"
          ],
          "name": "stdout"
        }
      ]
    },
    {
      "cell_type": "markdown",
      "metadata": {
        "id": "sdREH65nw7kZ",
        "colab_type": "text"
      },
      "source": [
        "### 9.0.1 Setting attributes for tensor and operations\n",
        "- name, shape, dtype, . . ."
      ]
    },
    {
      "cell_type": "code",
      "metadata": {
        "id": "a-EVq4YXw7ka",
        "colab_type": "code",
        "outputId": "497e928a-695e-4641-b7bc-c33994c1205b",
        "colab": {
          "base_uri": "https://localhost:8080/",
          "height": 34
        }
      },
      "source": [
        "f = tf.add(e, d, name='Addition_E_D') # shape and dtype of operation are automatically\n",
        "print(f)"
      ],
      "execution_count": 0,
      "outputs": [
        {
          "output_type": "stream",
          "text": [
            "tf.Tensor(15, shape=(), dtype=int32)\n"
          ],
          "name": "stdout"
        }
      ]
    },
    {
      "cell_type": "code",
      "metadata": {
        "id": "pZZPFXXAw7kc",
        "colab_type": "code",
        "outputId": "1cb61f2b-9fca-4b2f-c2cb-6214cb3a3593",
        "colab": {
          "base_uri": "https://localhost:8080/",
          "height": 34
        }
      },
      "source": [
        "h = tf.constant([1,2,3], name='const_3', dtype=tf.float32)\n",
        "print(h)"
      ],
      "execution_count": 0,
      "outputs": [
        {
          "output_type": "stream",
          "text": [
            "tf.Tensor([1. 2. 3.], shape=(3,), dtype=float32)\n"
          ],
          "name": "stdout"
        }
      ]
    },
    {
      "cell_type": "markdown",
      "metadata": {
        "id": "-v1U7psew7ke",
        "colab_type": "text"
      },
      "source": [
        "## 10 Tensor\n",
        "### 10.0.1 1) is the name of an object used in the python api as a handle for the result of an operation in the graph.\n",
        "### 10.0.2 2) is also a mathematical term for n-dimensional arrays\n",
        "- 1 x 1 tensor = scalar\n",
        "- 1 x n tensor = vector\n",
        "- n x n tensor = matrix\n",
        "- n x n x n tensor = 3-dimensional array\n",
        "- . . ."
      ]
    },
    {
      "cell_type": "code",
      "metadata": {
        "id": "UpTSqi2ow7ke",
        "colab_type": "code",
        "outputId": "6be1d5af-d89d-43d8-b03b-ae4ae956dab0",
        "colab": {
          "base_uri": "https://localhost:8080/",
          "height": 34
        }
      },
      "source": [
        "# Eager execution ; an imperative programming environment that evaluates operations immediately, without builing grphs\n",
        "# first example \n",
        "a = [[2.]]\n",
        "b = tf.matmul(a,a)\n",
        "print(\"result, {}\".format(b))"
      ],
      "execution_count": 0,
      "outputs": [
        {
          "output_type": "stream",
          "text": [
            "result, [[4.]]\n"
          ],
          "name": "stdout"
        }
      ]
    },
    {
      "cell_type": "code",
      "metadata": {
        "id": "92PGced9zVSj",
        "colab_type": "code",
        "outputId": "43431f51-f850-4269-b4f7-2b3b827217a9",
        "colab": {
          "base_uri": "https://localhost:8080/",
          "height": 68
        }
      },
      "source": [
        "a = tf.constant([[1,2], [3,4]])\n",
        "print(a)"
      ],
      "execution_count": 0,
      "outputs": [
        {
          "output_type": "stream",
          "text": [
            "tf.Tensor(\n",
            "[[1 2]\n",
            " [3 4]], shape=(2, 2), dtype=int32)\n"
          ],
          "name": "stdout"
        }
      ]
    },
    {
      "cell_type": "code",
      "metadata": {
        "id": "IWBco37zzl-h",
        "colab_type": "code",
        "outputId": "7e76a3aa-7b7b-48f6-ddab-1e699563fa3b",
        "colab": {
          "base_uri": "https://localhost:8080/",
          "height": 68
        }
      },
      "source": [
        "# broadcasting \n",
        "b = tf.add(a, 1)\n",
        "print(b)"
      ],
      "execution_count": 0,
      "outputs": [
        {
          "output_type": "stream",
          "text": [
            "tf.Tensor(\n",
            "[[2 3]\n",
            " [4 5]], shape=(2, 2), dtype=int32)\n"
          ],
          "name": "stdout"
        }
      ]
    },
    {
      "cell_type": "code",
      "metadata": {
        "id": "J73ucDu6zuqR",
        "colab_type": "code",
        "outputId": "d0d971f5-7ecf-4830-9f82-f1dd3c18fecc",
        "colab": {
          "base_uri": "https://localhost:8080/",
          "height": 68
        }
      },
      "source": [
        "# operator overloading is okay\n",
        "print(a*b)"
      ],
      "execution_count": 0,
      "outputs": [
        {
          "output_type": "stream",
          "text": [
            "tf.Tensor(\n",
            "[[ 2  6]\n",
            " [12 20]], shape=(2, 2), dtype=int32)\n"
          ],
          "name": "stdout"
        }
      ]
    },
    {
      "cell_type": "code",
      "metadata": {
        "id": "HonY3HC9z30S",
        "colab_type": "code",
        "outputId": "efef459f-a4c5-49c3-87e4-d4c1925da6a4",
        "colab": {
          "base_uri": "https://localhost:8080/",
          "height": 51
        }
      },
      "source": [
        "import numpy as np\n",
        "c = np.multiply(a,b)\n",
        "print(c)"
      ],
      "execution_count": 0,
      "outputs": [
        {
          "output_type": "stream",
          "text": [
            "[[ 2  6]\n",
            " [12 20]]\n"
          ],
          "name": "stdout"
        }
      ]
    },
    {
      "cell_type": "code",
      "metadata": {
        "id": "2FeuQxJ1z-rS",
        "colab_type": "code",
        "outputId": "2f6babed-ff99-464d-e2bc-b016a98f0e39",
        "colab": {
          "base_uri": "https://localhost:8080/",
          "height": 51
        }
      },
      "source": [
        "# obtain numpy value from a tensor\n",
        "print(a.numpy())"
      ],
      "execution_count": 0,
      "outputs": [
        {
          "output_type": "stream",
          "text": [
            "[[1 2]\n",
            " [3 4]]\n"
          ],
          "name": "stdout"
        }
      ]
    },
    {
      "cell_type": "code",
      "metadata": {
        "id": "aXdU_mzI0H_y",
        "colab_type": "code",
        "colab": {}
      },
      "source": [
        "# fizzbuzz\n",
        "def fizzbuzz(n):\n",
        "  counter = tf.constant(0)\n",
        "  n = tf.convert_to_tensor(n)\n",
        "  for i in range(1, n.numpy()+1):\n",
        "    i = tf.constant(i)\n",
        "    if int(i % 3) == 0 and int(i % 5) == 0:\n",
        "      print(\"FizzBuzz\")\n",
        "    elif int(i % 3) == 0:\n",
        "      print(\"Fizz\")\n",
        "    elif int(i % 5) == 0:\n",
        "      print(\"Buzz\")\n",
        "    else:\n",
        "      print(i.numpy())\n",
        "    counter += 1"
      ],
      "execution_count": 0,
      "outputs": []
    },
    {
      "cell_type": "code",
      "metadata": {
        "id": "9yydKqqS1LJ1",
        "colab_type": "code",
        "outputId": "1157a18c-7f7a-46c1-a86b-3f134d9359f6",
        "colab": {
          "base_uri": "https://localhost:8080/",
          "height": 274
        }
      },
      "source": [
        "fizzbuzz(15)"
      ],
      "execution_count": 0,
      "outputs": [
        {
          "output_type": "stream",
          "text": [
            "1\n",
            "2\n",
            "Fizz\n",
            "4\n",
            "Buzz\n",
            "Fizz\n",
            "7\n",
            "8\n",
            "Fizz\n",
            "Buzz\n",
            "11\n",
            "Fizz\n",
            "13\n",
            "14\n",
            "FizzBuzz\n"
          ],
          "name": "stdout"
        }
      ]
    },
    {
      "cell_type": "code",
      "metadata": {
        "id": "7Liq32uW1NfS",
        "colab_type": "code",
        "colab": {}
      },
      "source": [
        "# loss function : MSE loss for regression \n",
        "# for classification, we will use \"sparse_categorical_crossentropy \"\n",
        "# Since the task here is performing multi-class classification, \n",
        "# you will need to find the loss for each class label and sum the result. \n"
      ],
      "execution_count": 0,
      "outputs": []
    },
    {
      "cell_type": "markdown",
      "metadata": {
        "id": "ZWMdDZI92NLP",
        "colab_type": "text"
      },
      "source": [
        "$$loss = -\\sum_{j=0}^{n}y_{true, j}*\\log(p_{pred, j})$$\n"
      ]
    },
    {
      "cell_type": "code",
      "metadata": {
        "id": "8qvcgJqh2N56",
        "colab_type": "code",
        "colab": {}
      },
      "source": [
        "# n : number of classed \n",
        "# y_true : True label of the data\n",
        "# P_pred : Prediction probability vector for the data "
      ],
      "execution_count": 0,
      "outputs": []
    }
  ]
}
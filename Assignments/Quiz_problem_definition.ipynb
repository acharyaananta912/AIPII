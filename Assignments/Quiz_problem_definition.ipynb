{
  "nbformat": 4,
  "nbformat_minor": 0,
  "metadata": {
    "colab": {
      "name": "Quiz_problem_definition.ipynb",
      "provenance": [],
      "collapsed_sections": [
        "QhX50ycyiWcp"
      ],
      "include_colab_link": true
    },
    "kernelspec": {
      "display_name": "Python 3",
      "language": "python",
      "name": "python3"
    },
    "language_info": {
      "codemirror_mode": {
        "name": "ipython",
        "version": 3
      },
      "file_extension": ".py",
      "mimetype": "text/x-python",
      "name": "python",
      "nbconvert_exporter": "python",
      "pygments_lexer": "ipython3",
      "version": "3.7.4"
    }
  },
  "cells": [
    {
      "cell_type": "markdown",
      "metadata": {
        "id": "view-in-github",
        "colab_type": "text"
      },
      "source": [
        "<a href=\"https://colab.research.google.com/github/sayem1997/AIPII/blob/master/Assignments/Quiz_problem_definition.ipynb\" target=\"_parent\"><img src=\"https://colab.research.google.com/assets/colab-badge.svg\" alt=\"Open In Colab\"/></a>"
      ]
    },
    {
      "cell_type": "markdown",
      "metadata": {
        "colab_type": "text",
        "id": "pB28eCaYiWbS"
      },
      "source": [
        "# Quiz: Food MNIST classification"
      ]
    },
    {
      "cell_type": "code",
      "metadata": {
        "colab_type": "code",
        "id": "hRZJQtM2iWbP",
        "colab": {
          "base_uri": "https://localhost:8080/",
          "height": 34
        },
        "outputId": "5aa6f996-e4db-4068-d75d-9588b7709cad"
      },
      "source": [
        "##Download datasets\n",
        "!git clone https://github.com/srohit0/food_mnist.git"
      ],
      "execution_count": 1,
      "outputs": [
        {
          "output_type": "stream",
          "text": [
            "fatal: destination path 'food_mnist' already exists and is not an empty directory.\n"
          ],
          "name": "stdout"
        }
      ]
    },
    {
      "cell_type": "markdown",
      "metadata": {
        "colab_type": "text",
        "id": "_ZeJkxjPiWbT"
      },
      "source": [
        "## Problem 1: Load Data"
      ]
    },
    {
      "cell_type": "code",
      "metadata": {
        "colab_type": "code",
        "id": "xdpKRPYliWbT",
        "colab": {
          "base_uri": "https://localhost:8080/",
          "height": 34
        },
        "outputId": "a2066fff-7ca5-4929-d15e-d6d0e79d1a11"
      },
      "source": [
        "import food_mnist\n",
        "\n",
        "import tensorflow as tf\n",
        "from tensorflow import keras\n",
        "from keras import datasets, layers, models, optimizers\n",
        "import numpy as np\n"
      ],
      "execution_count": 2,
      "outputs": [
        {
          "output_type": "stream",
          "text": [
            "Using TensorFlow backend.\n"
          ],
          "name": "stderr"
        }
      ]
    },
    {
      "cell_type": "code",
      "metadata": {
        "colab_type": "code",
        "id": "kqO3RSimXHQG",
        "colab": {}
      },
      "source": [
        "#Load Food Mnist data \n",
        "#comment: mnist data use \"mnist.load_data()\" for loading data\n",
        "img_rows, img_cols, img_channels = 56, 56, 3\n",
        "(x_train, y_train), (x_test, y_test) = food_mnist.load_data(img_rows, img_cols)"
      ],
      "execution_count": 0,
      "outputs": []
    },
    {
      "cell_type": "markdown",
      "metadata": {
        "colab_type": "text",
        "id": "56Awv_mviWbX"
      },
      "source": [
        "## Problem 2: Preprocessing\n"
      ]
    },
    {
      "cell_type": "code",
      "metadata": {
        "colab_type": "code",
        "id": "tDZTEQ2diWbY",
        "colab": {}
      },
      "source": [
        "#Normalize and one-hot encoding for training\n",
        "batch_size = 1000\n",
        "num_classes = 10\n",
        "epochs = 5\n",
        "input_shape = (img_rows, img_cols, img_channels)\n",
        "X = np.concatenate((x_train, x_test), axis=0)\n",
        "Y = np.concatenate((y_train, y_test), axis=0)\n",
        "\n",
        "\n",
        "x_train = x_train.astype('float16') / 255.0\n",
        "x_test = x_test.astype('float16') / 255.0\n",
        "\n",
        "\n",
        "# convert class vectors to binary class matrices\n",
        "y_train = tf.keras.utils.to_categorical(y_train, num_classes)\n",
        "y_test = tf.keras.utils.to_categorical(y_test, num_classes)"
      ],
      "execution_count": 0,
      "outputs": []
    },
    {
      "cell_type": "markdown",
      "metadata": {
        "colab_type": "text",
        "id": "-J1hQFubXgOO"
      },
      "source": [
        "## Problem 3: Build a model\n",
        "Model is consisted of conv - maxpool - dropout - flatten - dense - dropout - dense\n",
        "\n",
        "Filter size of convolution is 32 and kernel size is 3 by 3.\n",
        "\n",
        "Maxpool size is 2 by 2.\n",
        "\n",
        "Each dropout rate is 0.5\n",
        "\n",
        "first hidden layer size is 512.\n",
        "\n",
        "Each layer have relu activation function except last dense layer.\n",
        "\n",
        "Last dense layer has softmax activation function.\n"
      ]
    },
    {
      "cell_type": "code",
      "metadata": {
        "colab_type": "code",
        "id": "t9PvJQbOXhrE",
        "colab": {}
      },
      "source": [
        "#Using this hyperparameter build a model\n",
        "\n",
        "\n",
        "batch_size = 1000\n",
        "num_classes = 10\n",
        "epochs = 5\n",
        "\n",
        "model = models.Sequential()\n",
        "model.add(layers.Conv2D(32, (3, 3), activation='relu', input_shape=(img_rows, img_cols, img_channels)))\n",
        "model.add(layers.MaxPool2D(pool_size=(2,2)))\n",
        "model.add(layers.Dropout(0.5))\n",
        "model.add(layers.Flatten())\n",
        "model.add(layers.Dense(512, activation='relu'))\n",
        "model.add(layers.Dropout(0.5))\n",
        "model.add(layers.Dense(num_classes, activation='softmax'))\n",
        "\n"
      ],
      "execution_count": 0,
      "outputs": []
    },
    {
      "cell_type": "markdown",
      "metadata": {
        "colab_type": "text",
        "id": "F1IxU7Q4Xi10"
      },
      "source": [
        "## Problem 4: Training\n",
        "loss function is categorical_crossentropy and it's optimizer is adamoptimizer or sgd.(adamoptimizer get better result)"
      ]
    },
    {
      "cell_type": "code",
      "metadata": {
        "colab_type": "code",
        "id": "cooCRmjIXjCE",
        "colab": {
          "base_uri": "https://localhost:8080/",
          "height": 204
        },
        "outputId": "c1dfdada-46cb-4926-87c0-325da8705a07"
      },
      "source": [
        "#Training\n",
        "model.compile(loss='categorical_crossentropy', optimizer='adam', metrics=['accuracy'])\n",
        "history = model.fit(x_train, y_train, batch_size=batch_size, epochs = epochs, validation_data=(x_test, y_test), verbose=1)"
      ],
      "execution_count": 9,
      "outputs": [
        {
          "output_type": "stream",
          "text": [
            "Train on 3750 samples, validate on 1250 samples\n",
            "Epoch 1/5\n",
            "3750/3750 [==============================] - 13s 3ms/step - loss: 2.3025 - accuracy: 0.1109 - val_loss: 2.2989 - val_accuracy: 0.1936\n",
            "Epoch 2/5\n",
            "3750/3750 [==============================] - 12s 3ms/step - loss: 2.2969 - accuracy: 0.1637 - val_loss: 2.2903 - val_accuracy: 0.2112\n",
            "Epoch 3/5\n",
            "3750/3750 [==============================] - 12s 3ms/step - loss: 2.2878 - accuracy: 0.1755 - val_loss: 2.2785 - val_accuracy: 0.2160\n",
            "Epoch 4/5\n",
            "3750/3750 [==============================] - 12s 3ms/step - loss: 2.2772 - accuracy: 0.1757 - val_loss: 2.2657 - val_accuracy: 0.1864\n",
            "Epoch 5/5\n",
            "3750/3750 [==============================] - 12s 3ms/step - loss: 2.2650 - accuracy: 0.1688 - val_loss: 2.2461 - val_accuracy: 0.2176\n"
          ],
          "name": "stdout"
        }
      ]
    },
    {
      "cell_type": "markdown",
      "metadata": {
        "colab_type": "text",
        "id": "0iB82gwrXjJU"
      },
      "source": [
        "## Problem 5: Evaluation and printing result"
      ]
    },
    {
      "cell_type": "code",
      "metadata": {
        "colab_type": "code",
        "id": "xyhxXe4QXjO0",
        "colab": {
          "base_uri": "https://localhost:8080/",
          "height": 34
        },
        "outputId": "81c52056-1597-4223-9f72-b9119324d575"
      },
      "source": [
        "#Evaluation\n",
        "score = model.evaluate(x_train, y_train, batch_size=batch_size, verbose=1)"
      ],
      "execution_count": 10,
      "outputs": [
        {
          "output_type": "stream",
          "text": [
            "3750/3750 [==============================] - 3s 896us/step\n"
          ],
          "name": "stdout"
        }
      ]
    },
    {
      "cell_type": "code",
      "metadata": {
        "colab_type": "code",
        "id": "H4toshloZnRs",
        "colab": {
          "base_uri": "https://localhost:8080/",
          "height": 51
        },
        "outputId": "8b3e8451-dcb3-451a-d45b-a15c99cf5b12"
      },
      "source": [
        "#print result\n",
        "print('test_loss: ', score[0])\n",
        "print('test_accuracy: ', score[1])"
      ],
      "execution_count": 11,
      "outputs": [
        {
          "output_type": "stream",
          "text": [
            "test_loss:  2.249250650405884\n",
            "test_accuracy:  0.2226666659116745\n"
          ],
          "name": "stdout"
        }
      ]
    },
    {
      "cell_type": "markdown",
      "metadata": {
        "colab_type": "text",
        "id": "3BQZtfqrZCCN"
      },
      "source": [
        "## Additional points: if you make a plot about test loss and test accuracy"
      ]
    },
    {
      "cell_type": "code",
      "metadata": {
        "colab_type": "code",
        "id": "ycjr9qHQZCHf",
        "colab": {
          "base_uri": "https://localhost:8080/",
          "height": 295
        },
        "outputId": "61e97c3e-5839-4d8c-f2da-50671bb5e46f"
      },
      "source": [
        "#Test loss\n",
        "import matplotlib.pyplot as plt\n",
        "\n",
        "plt.plot(history.history['val_loss'])\n",
        "\n",
        "plt.title('Test loss Graph')\n",
        "plt.ylabel('Loss')\n",
        "plt.xlabel('epoch')\n",
        "plt.legend(['Test Loss'], loc='upper left')\n",
        "plt.show()"
      ],
      "execution_count": 12,
      "outputs": [
        {
          "output_type": "display_data",
          "data": {
            "image/png": "[encoded data removed]",
            "text/plain": [
              "<Figure size 432x288 with 1 Axes>"
            ]
          },
          "metadata": {
            "tags": [],
            "needs_background": "light"
          }
        }
      ]
    },
    {
      "cell_type": "code",
      "metadata": {
        "colab_type": "code",
        "id": "RMUVK9EtZpqe",
        "colab": {
          "base_uri": "https://localhost:8080/",
          "height": 295
        },
        "outputId": "7c906ef0-0310-4b99-a7ce-2fd6687b886b"
      },
      "source": [
        "#test accuracy\n",
        "plt.plot(history.history['val_accuracy'])\n",
        "plt.title('Accuracy Graph')\n",
        "plt.ylabel('accuracy')\n",
        "plt.xlabel('epoch')\n",
        "plt.legend(['Accuracy', ], loc='upper left')\n",
        "plt.show()"
      ],
      "execution_count": 13,
      "outputs": [
        {
          "output_type": "display_data",
          "data": {
            "image/png": "[encoded data removed]",
            "text/plain": [
              "<Figure size 432x288 with 1 Axes>"
            ]
          },
          "metadata": {
            "tags": [],
            "needs_background": "light"
          }
        }
      ]
    },
    {
      "cell_type": "code",
      "metadata": {
        "id": "otNnLAQPygTy",
        "colab_type": "code",
        "colab": {}
      },
      "source": [
        ""
      ],
      "execution_count": 0,
      "outputs": []
    }
  ]
}
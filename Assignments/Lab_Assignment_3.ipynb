{
  "nbformat": 4,
  "nbformat_minor": 0,
  "metadata": {
    "colab": {
      "name": "Lab_Assignment_3.ipynb",
      "provenance": [],
      "collapsed_sections": [],
      "include_colab_link": true
    },
    "kernelspec": {
      "name": "python3",
      "display_name": "Python 3"
    },
    "accelerator": "GPU"
  },
  "cells": [
    {
      "cell_type": "markdown",
      "metadata": {
        "id": "view-in-github",
        "colab_type": "text"
      },
      "source": [
        "<a href=\"https://colab.research.google.com/github/sayem1997/AIPII/blob/master/Assignments/Lab_Assignment_3.ipynb\" target=\"_parent\"><img src=\"https://colab.research.google.com/assets/colab-badge.svg\" alt=\"Open In Colab\"/></a>"
      ]
    },
    {
      "cell_type": "markdown",
      "metadata": {
        "id": "ePDOnMfL7HWV",
        "colab_type": "text"
      },
      "source": [
        "## Introduction to AI Programming II:: Assignment #3 (Lab)  -- Total: 50 pts(Each points are 10 pts.)\n",
        "\n",
        "### Write your information in below. \n",
        "### Student ID:                        \n",
        "### Name: "
      ]
    },
    {
      "cell_type": "code",
      "metadata": {
        "id": "i-lp_zSu309l",
        "colab_type": "code",
        "colab": {
          "base_uri": "https://localhost:8080/",
          "height": 34
        },
        "outputId": "d387ee18-3a6e-4e92-f9c6-41d593fdbdab"
      },
      "source": [
        "# import tensorflow & keras\n",
        "import tensorflow as tf\n",
        "from tensorflow import keras\n",
        "from keras.models import Sequential\n",
        "from keras.layers import Dense, Dropout, Flatten, Activation\n",
        "import numpy as np\n",
        "import matplotlib.pyplot as plt"
      ],
      "execution_count": 1,
      "outputs": [
        {
          "output_type": "stream",
          "text": [
            "Using TensorFlow backend.\n"
          ],
          "name": "stderr"
        }
      ]
    },
    {
      "cell_type": "code",
      "metadata": {
        "id": "1P-iGK0537fp",
        "colab_type": "code",
        "colab": {
          "base_uri": "https://localhost:8080/",
          "height": 51
        },
        "outputId": "e629e779-94db-4e04-ed85-fcf055380840"
      },
      "source": [
        "#Download mnist data from MNIST server\n",
        "img_rows = 28\n",
        "img_cols = 28\n",
        "(x_train, y_train), (x_test, y_test) = keras.datasets.mnist.load_data()"
      ],
      "execution_count": 2,
      "outputs": [
        {
          "output_type": "stream",
          "text": [
            "Downloading data from https://storage.googleapis.com/tensorflow/tf-keras-datasets/mnist.npz\n",
            "11493376/11490434 [==============================] - 0s 0us/step\n"
          ],
          "name": "stdout"
        }
      ]
    },
    {
      "cell_type": "code",
      "metadata": {
        "id": "-HU8nFIi4Ew3",
        "colab_type": "code",
        "outputId": "0b89827b-4ee4-4dbd-eeb1-a4b5d16ff304",
        "colab": {
          "base_uri": "https://localhost:8080/",
          "height": 607
        }
      },
      "source": [
        "# Visualize images of the MNIST dataset\n",
        "plt.figure(figsize=(10, 10))\n",
        "for i in range(9):\n",
        "    plt.subplot(3,3,i+1)\n",
        "    plt.imshow(x_train[i], cmap='gray', interpolation='none')\n",
        "    plt.title(\"Class {}\".format(y_train[i]))"
      ],
      "execution_count": 3,
      "outputs": [
        {
          "output_type": "display_data",
          "data": {
            "image/png": "[encoded data removed]",
            "text/plain": [
              "<Figure size 720x720 with 9 Axes>"
            ]
          },
          "metadata": {
            "tags": [],
            "needs_background": "light"
          }
        }
      ]
    },
    {
      "cell_type": "code",
      "metadata": {
        "id": "yX_Nnd5-4G8t",
        "colab_type": "code",
        "outputId": "1ccef5ae-ba27-47c9-cdc5-061039d14a09",
        "colab": {
          "base_uri": "https://localhost:8080/",
          "height": 51
        }
      },
      "source": [
        "# check the shape of training data\n",
        "print(x_train.shape)\n",
        "# check the shape of test data\n",
        "print(x_test.shape)"
      ],
      "execution_count": 4,
      "outputs": [
        {
          "output_type": "stream",
          "text": [
            "(60000, 28, 28)\n",
            "(10000, 28, 28)\n"
          ],
          "name": "stdout"
        }
      ]
    },
    {
      "cell_type": "code",
      "metadata": {
        "id": "2zvLieso4wP4",
        "colab_type": "code",
        "colab": {}
      },
      "source": [
        "# flatten training and test datasets to 1-d\n",
        "x_train = x_train.reshape(x_train.shape[0], 784)\n",
        "x_test = x_test.reshape(x_test.shape[0], 784)\n",
        "\n",
        "x_train = x_train.astype('float32') / 255.\n",
        "x_test = x_test.astype('float32') / 255."
      ],
      "execution_count": 0,
      "outputs": []
    },
    {
      "cell_type": "code",
      "metadata": {
        "id": "qNi9ALPp5gpV",
        "colab_type": "code",
        "outputId": "b34586a7-b9a5-4255-96c1-ad1a23610d12",
        "colab": {
          "base_uri": "https://localhost:8080/",
          "height": 34
        }
      },
      "source": [
        "x_train[0].shape, x_test[0].shape"
      ],
      "execution_count": 6,
      "outputs": [
        {
          "output_type": "execute_result",
          "data": {
            "text/plain": [
              "((784,), (784,))"
            ]
          },
          "metadata": {
            "tags": []
          },
          "execution_count": 6
        }
      ]
    },
    {
      "cell_type": "code",
      "metadata": {
        "id": "Wc7ONnDu5im0",
        "colab_type": "code",
        "outputId": "93687928-71ce-4b8d-fda0-539a80fa61f2",
        "colab": {
          "base_uri": "https://localhost:8080/",
          "height": 68
        }
      },
      "source": [
        "# observe the shapes of training data after the reshape\n",
        "print('x_train shape:', x_train.shape)\n",
        "print(x_train.shape[0], 'train samples')\n",
        "print(x_test.shape[0], 'test samples')"
      ],
      "execution_count": 7,
      "outputs": [
        {
          "output_type": "stream",
          "text": [
            "x_train shape: (60000, 784)\n",
            "60000 train samples\n",
            "10000 test samples\n"
          ],
          "name": "stdout"
        }
      ]
    },
    {
      "cell_type": "code",
      "metadata": {
        "id": "thlYf7Gg5mFV",
        "colab_type": "code",
        "colab": {}
      },
      "source": [
        "# 1,2,3,... 10 :One Hot coding\n",
        "num_classes = 10\n",
        "from keras.utils import np_utils\n",
        "# reshape labels categorically\n",
        "y_train = np_utils.to_categorical(y_train)\n",
        "y_test = np_utils.to_categorical(y_test)\n",
        "#y_train = keras.utils.to_categorical(y_train, num_classes)\n",
        "#y_test = keras.utils.to_categorical(y_test, num_classes)"
      ],
      "execution_count": 0,
      "outputs": []
    },
    {
      "cell_type": "code",
      "metadata": {
        "id": "fqPUM2Lr5pwW",
        "colab_type": "code",
        "outputId": "2c8c3bee-25fc-4adc-f4e4-71372a7bce01",
        "colab": {
          "base_uri": "https://localhost:8080/",
          "height": 68
        }
      },
      "source": [
        "print(y_train[0])\n",
        "print(y_test[0])\n",
        "y_train.shape,y_test.shape\n",
        "print(x_train.shape[1])"
      ],
      "execution_count": 9,
      "outputs": [
        {
          "output_type": "stream",
          "text": [
            "[0. 0. 0. 0. 0. 1. 0. 0. 0. 0.]\n",
            "[0. 0. 0. 0. 0. 0. 0. 1. 0. 0.]\n",
            "784\n"
          ],
          "name": "stdout"
        }
      ]
    },
    {
      "cell_type": "code",
      "metadata": {
        "id": "QnpGPKF45sNE",
        "colab_type": "code",
        "colab": {}
      },
      "source": [
        "def make_model(num_layers):\n",
        "    model= Sequential()\n",
        "    if num_layers == 0:\n",
        "        model.add(Dense(output_dim= num_classes, input_dim = x_train.shape[1], activation='softmax'))\n",
        "        model.compile(loss='mse', optimizer = 'sgd', metrics=['accuracy'])\n",
        "        return model\n",
        "    \n",
        "    for i in range(num_layers):\n",
        "        if i == 0:\n",
        "            model.add(Dense(output_dim = 32, input_dim = x_train.shape[1], activation='sigmoid'))\n",
        "        else:\n",
        "            model.add(Dense(output_dim = 10, activation='sigmoid'))\n",
        "    model.add(Dense(output_dim = num_classes, activation=\"softmax\"))\n",
        "    model.compile(loss='mse', optimizer='sgd', metrics=['accuracy'])\n",
        "    return model"
      ],
      "execution_count": 0,
      "outputs": []
    },
    {
      "cell_type": "code",
      "metadata": {
        "id": "e7BpXJOo5-m8",
        "colab_type": "code",
        "outputId": "1775949a-9872-492a-c719-53bd6efc72d7",
        "colab": {
          "base_uri": "https://localhost:8080/",
          "height": 476
        }
      },
      "source": [
        "(x_train.shape[1],)\n",
        "#num_hidden_neurons = 32\n",
        "model = make_model(num_layers=1)\n",
        "\n",
        "model.summary()\n",
        "history = model.fit(x_train, y_train, batch_size = 128, epochs = 5, validation_data  =(x_test, y_test))"
      ],
      "execution_count": 11,
      "outputs": [
        {
          "output_type": "stream",
          "text": [
            "/usr/local/lib/python3.6/dist-packages/ipykernel_launcher.py:10: UserWarning: Update your `Dense` call to the Keras 2 API: `Dense(input_dim=784, activation=\"sigmoid\", units=32)`\n",
            "  # Remove the CWD from sys.path while we load stuff.\n",
            "/usr/local/lib/python3.6/dist-packages/ipykernel_launcher.py:13: UserWarning: Update your `Dense` call to the Keras 2 API: `Dense(activation=\"softmax\", units=10)`\n",
            "  del sys.path[0]\n"
          ],
          "name": "stderr"
        },
        {
          "output_type": "stream",
          "text": [
            "Model: \"sequential_1\"\n",
            "_________________________________________________________________\n",
            "Layer (type)                 Output Shape              Param #   \n",
            "=================================================================\n",
            "dense_1 (Dense)              (None, 32)                25120     \n",
            "_________________________________________________________________\n",
            "dense_2 (Dense)              (None, 10)                330       \n",
            "=================================================================\n",
            "Total params: 25,450\n",
            "Trainable params: 25,450\n",
            "Non-trainable params: 0\n",
            "_________________________________________________________________\n",
            "Train on 60000 samples, validate on 10000 samples\n",
            "Epoch 1/5\n",
            "60000/60000 [==============================] - 3s 54us/step - loss: 0.0941 - accuracy: 0.1125 - val_loss: 0.0926 - val_accuracy: 0.1154\n",
            "Epoch 2/5\n",
            "60000/60000 [==============================] - 2s 27us/step - loss: 0.0919 - accuracy: 0.1188 - val_loss: 0.0914 - val_accuracy: 0.1258\n",
            "Epoch 3/5\n",
            "60000/60000 [==============================] - 2s 27us/step - loss: 0.0910 - accuracy: 0.1347 - val_loss: 0.0907 - val_accuracy: 0.1450\n",
            "Epoch 4/5\n",
            "60000/60000 [==============================] - 2s 27us/step - loss: 0.0904 - accuracy: 0.1541 - val_loss: 0.0902 - val_accuracy: 0.1656\n",
            "Epoch 5/5\n",
            "60000/60000 [==============================] - 2s 27us/step - loss: 0.0900 - accuracy: 0.1710 - val_loss: 0.0898 - val_accuracy: 0.1829\n"
          ],
          "name": "stdout"
        }
      ]
    },
    {
      "cell_type": "code",
      "metadata": {
        "id": "eWarTulI6DN0",
        "colab_type": "code",
        "outputId": "3ff11b97-3ea9-427f-ece7-dbe4069feb13",
        "colab": {
          "base_uri": "https://localhost:8080/",
          "height": 51
        }
      },
      "source": [
        "#evaluate the test loss\n",
        "\n",
        "score = model.evaluate(x_test, y_test, verbose=0)\n",
        "print('Test loss:', score[0])\n",
        "print('Test accuracy:', score[1])"
      ],
      "execution_count": 12,
      "outputs": [
        {
          "output_type": "stream",
          "text": [
            "Test loss: 0.08976044759750366\n",
            "Test accuracy: 0.18289999663829803\n"
          ],
          "name": "stdout"
        }
      ]
    },
    {
      "cell_type": "code",
      "metadata": {
        "id": "7LfYCahv6uxu",
        "colab_type": "code",
        "outputId": "1009271e-1ab0-40b2-96f7-95cee04861ed",
        "colab": {
          "base_uri": "https://localhost:8080/",
          "height": 282
        }
      },
      "source": [
        "# test the model through visually debugging the inputs,,  run > twice to see the image\n",
        "# index of your input to test\n",
        "n = 3\n",
        "# see the image by plotting\n",
        "plt.imshow(x_test[n].reshape(28, 28), cmap='Greys', interpolation='nearest')  \n",
        "plt.show()\n",
        "\n",
        "# your model's prediction, is the output correct?\n",
        "print('The Answer is ', model.predict_classes(x_test[n].reshape((1, 28* 28) ) ) )\n"
      ],
      "execution_count": 13,
      "outputs": [
        {
          "output_type": "display_data",
          "data": {
            "image/png": "[encoded data removed]",
            "text/plain": [
              "<Figure size 432x288 with 1 Axes>"
            ]
          },
          "metadata": {
            "tags": [],
            "needs_background": "light"
          }
        },
        {
          "output_type": "stream",
          "text": [
            "The Answer is  [0]\n"
          ],
          "name": "stdout"
        }
      ]
    },
    {
      "cell_type": "markdown",
      "metadata": {
        "id": "jLVXu5zs7tji",
        "colab_type": "text"
      },
      "source": [
        "## 1. Report the result of the test loss & accuracy, when we set the dimension(neurons) of hidden layer to (64, 128, 256) with one hidden layer.\n",
        "## *** Default condition : refer in the above codes.. \n",
        "## *** You have to write your codes in another blank area, and write your answer in below.\n",
        "\n",
        "> 들여쓴 블록\n",
        "\n",
        "\n",
        "| dimension |      test loss     |    test accuracy      |\n",
        "|-----------|--------------------|-----------------------|\n",
        "|   64      |                    |                       |\n",
        "|-----------|--------------------|-----------------------|\n",
        "|   128     |                    |                       | \n",
        "|-----------|--------------------|-----------------------|\n",
        "|   256     |                    |                       |\n",
        "\n",
        "\n",
        "\n"
      ]
    },
    {
      "cell_type": "code",
      "metadata": {
        "id": "4YMxRSVW7_HC",
        "colab_type": "code",
        "colab": {
          "base_uri": "https://localhost:8080/",
          "height": 1000
        },
        "outputId": "943068e6-7761-487a-b98c-2a3bbf8abcbd"
      },
      "source": [
        "# Write your answer in here\n",
        "def make_model(num_layers, neurons, act='sigmoid'):\n",
        "    model= Sequential()\n",
        "    if num_layers == 0:\n",
        "        model.add(Dense(output_dim= num_classes, input_dim = x_train.shape[1], activation='softmax'))\n",
        "        model.compile(loss='mse', optimizer = 'sgd', metrics=['accuracy'])\n",
        "        return model\n",
        "    \n",
        "    for i in range(num_layers):\n",
        "            model.add(Dense(output_dim = neurons, input_dim = x_train.shape[1], activation=act))\n",
        "    \n",
        "    model.add(Dense(output_dim = num_classes, activation=\"softmax\"))\n",
        "    \n",
        "    model.compile(loss='mse', optimizer='sgd', metrics=['accuracy'])\n",
        "    return model\n",
        "  \n",
        "dimensions = [64, 128, 256]\n",
        "for dimension in dimensions:\n",
        "  model = make_model(1, dimension, 'sigmoid')\n",
        "  model.summary()\n",
        "  history = model.fit(x_train, y_train, batch_size = 128, epochs = 5, validation_data  =(x_test, y_test))\n",
        "  score = model.evaluate(x_test, y_test, verbose=0)\n",
        "  print('Accuracy for ', dimension, ' number of neorons:')\n",
        "  print('Test loss:', score[0])\n",
        "  print('Test accuracy:', score[1], '\\n\\n')"
      ],
      "execution_count": 33,
      "outputs": [
        {
          "output_type": "stream",
          "text": [
            "/usr/local/lib/python3.6/dist-packages/ipykernel_launcher.py:10: UserWarning: Update your `Dense` call to the Keras 2 API: `Dense(input_dim=784, activation=\"sigmoid\", units=64)`\n",
            "  # Remove the CWD from sys.path while we load stuff.\n",
            "/usr/local/lib/python3.6/dist-packages/ipykernel_launcher.py:12: UserWarning: Update your `Dense` call to the Keras 2 API: `Dense(activation=\"softmax\", units=10)`\n",
            "  if sys.path[0] == '':\n"
          ],
          "name": "stderr"
        },
        {
          "output_type": "stream",
          "text": [
            "Model: \"sequential_15\"\n",
            "_________________________________________________________________\n",
            "Layer (type)                 Output Shape              Param #   \n",
            "=================================================================\n",
            "dense_28 (Dense)             (None, 64)                50240     \n",
            "_________________________________________________________________\n",
            "dense_29 (Dense)             (None, 10)                650       \n",
            "=================================================================\n",
            "Total params: 50,890\n",
            "Trainable params: 50,890\n",
            "Non-trainable params: 0\n",
            "_________________________________________________________________\n",
            "Train on 60000 samples, validate on 10000 samples\n",
            "Epoch 1/5\n",
            "60000/60000 [==============================] - 2s 27us/step - loss: 0.0922 - accuracy: 0.1009 - val_loss: 0.0918 - val_accuracy: 0.1015\n",
            "Epoch 2/5\n",
            "60000/60000 [==============================] - 2s 27us/step - loss: 0.0914 - accuracy: 0.1181 - val_loss: 0.0912 - val_accuracy: 0.1268\n",
            "Epoch 3/5\n",
            "60000/60000 [==============================] - 2s 26us/step - loss: 0.0909 - accuracy: 0.1504 - val_loss: 0.0907 - val_accuracy: 0.1579\n",
            "Epoch 4/5\n",
            "60000/60000 [==============================] - 2s 27us/step - loss: 0.0905 - accuracy: 0.1797 - val_loss: 0.0903 - val_accuracy: 0.1852\n",
            "Epoch 5/5\n",
            "60000/60000 [==============================] - 2s 27us/step - loss: 0.0901 - accuracy: 0.2069 - val_loss: 0.0900 - val_accuracy: 0.2126\n",
            "Accuracy for  64  number of neorons:\n",
            "Test loss: 0.0899682452917099\n",
            "Test accuracy: 0.2125999927520752 \n",
            "\n",
            "\n",
            "Model: \"sequential_16\"\n",
            "_________________________________________________________________\n",
            "Layer (type)                 Output Shape              Param #   \n",
            "=================================================================\n",
            "dense_30 (Dense)             (None, 128)               100480    \n",
            "_________________________________________________________________\n",
            "dense_31 (Dense)             (None, 10)                1290      \n",
            "=================================================================\n",
            "Total params: 101,770\n",
            "Trainable params: 101,770\n",
            "Non-trainable params: 0\n",
            "_________________________________________________________________\n"
          ],
          "name": "stdout"
        },
        {
          "output_type": "stream",
          "text": [
            "/usr/local/lib/python3.6/dist-packages/ipykernel_launcher.py:10: UserWarning: Update your `Dense` call to the Keras 2 API: `Dense(input_dim=784, activation=\"sigmoid\", units=128)`\n",
            "  # Remove the CWD from sys.path while we load stuff.\n"
          ],
          "name": "stderr"
        },
        {
          "output_type": "stream",
          "text": [
            "Train on 60000 samples, validate on 10000 samples\n",
            "Epoch 1/5\n",
            "60000/60000 [==============================] - 2s 28us/step - loss: 0.0920 - accuracy: 0.0986 - val_loss: 0.0913 - val_accuracy: 0.0932\n",
            "Epoch 2/5\n",
            "60000/60000 [==============================] - 2s 27us/step - loss: 0.0908 - accuracy: 0.1045 - val_loss: 0.0905 - val_accuracy: 0.1062\n",
            "Epoch 3/5\n",
            "60000/60000 [==============================] - 2s 27us/step - loss: 0.0902 - accuracy: 0.1259 - val_loss: 0.0900 - val_accuracy: 0.1335\n",
            "Epoch 4/5\n",
            "60000/60000 [==============================] - 2s 27us/step - loss: 0.0898 - accuracy: 0.1579 - val_loss: 0.0896 - val_accuracy: 0.1683\n",
            "Epoch 5/5\n",
            "60000/60000 [==============================] - 2s 27us/step - loss: 0.0893 - accuracy: 0.1937 - val_loss: 0.0892 - val_accuracy: 0.2089\n",
            "Accuracy for  128  number of neorons:\n",
            "Test loss: 0.08915669301748276\n",
            "Test accuracy: 0.20890000462532043 \n",
            "\n",
            "\n",
            "Model: \"sequential_17\"\n",
            "_________________________________________________________________\n",
            "Layer (type)                 Output Shape              Param #   \n",
            "=================================================================\n",
            "dense_32 (Dense)             (None, 256)               200960    \n",
            "_________________________________________________________________\n",
            "dense_33 (Dense)             (None, 10)                2570      \n",
            "=================================================================\n",
            "Total params: 203,530\n",
            "Trainable params: 203,530\n",
            "Non-trainable params: 0\n",
            "_________________________________________________________________\n"
          ],
          "name": "stdout"
        },
        {
          "output_type": "stream",
          "text": [
            "/usr/local/lib/python3.6/dist-packages/ipykernel_launcher.py:10: UserWarning: Update your `Dense` call to the Keras 2 API: `Dense(input_dim=784, activation=\"sigmoid\", units=256)`\n",
            "  # Remove the CWD from sys.path while we load stuff.\n"
          ],
          "name": "stderr"
        },
        {
          "output_type": "stream",
          "text": [
            "Train on 60000 samples, validate on 10000 samples\n",
            "Epoch 1/5\n",
            "60000/60000 [==============================] - 2s 29us/step - loss: 0.0913 - accuracy: 0.1200 - val_loss: 0.0907 - val_accuracy: 0.1311\n",
            "Epoch 2/5\n",
            "60000/60000 [==============================] - 2s 27us/step - loss: 0.0902 - accuracy: 0.1422 - val_loss: 0.0898 - val_accuracy: 0.1519\n",
            "Epoch 3/5\n",
            "60000/60000 [==============================] - 2s 28us/step - loss: 0.0895 - accuracy: 0.1856 - val_loss: 0.0893 - val_accuracy: 0.2133\n",
            "Epoch 4/5\n",
            "60000/60000 [==============================] - 2s 27us/step - loss: 0.0891 - accuracy: 0.2325 - val_loss: 0.0889 - val_accuracy: 0.2416\n",
            "Epoch 5/5\n",
            "60000/60000 [==============================] - 2s 27us/step - loss: 0.0887 - accuracy: 0.2502 - val_loss: 0.0886 - val_accuracy: 0.2564\n",
            "Accuracy for  256  number of neorons:\n",
            "Test loss: 0.08859239249229431\n",
            "Test accuracy: 0.2563999891281128 \n",
            "\n",
            "\n"
          ],
          "name": "stdout"
        }
      ]
    },
    {
      "cell_type": "markdown",
      "metadata": {
        "id": "YCMEPBy09wu8",
        "colab_type": "text"
      },
      "source": [
        "## 2. Report the result of the test loss & accuracy, when we set the number of hidden layer to (2, 4, 8)  \n",
        "## *** Default condition : refer in the above codes and each hidden layer have same neurons(number of neurons: 128) \n",
        "## *** You have to write your codes in another blank area, and write your answer in below.\n",
        "\n",
        "> 들여쓴 블록\n",
        "\n",
        "\n",
        "| layer's num |      test loss     |    test accuracy      |\n",
        "|-------------|--------------------|-----------------------|\n",
        "|   2         |                    |                       |\n",
        "|-------------|--------------------|-----------------------|\n",
        "|   4         |                    |                       | \n",
        "|-------------|--------------------|-----------------------|\n",
        "|   8         |                    |                       |\n",
        "\n"
      ]
    },
    {
      "cell_type": "code",
      "metadata": {
        "id": "SluhPBjM9P3j",
        "colab_type": "code",
        "colab": {
          "base_uri": "https://localhost:8080/",
          "height": 1000
        },
        "outputId": "0c6e048b-05e2-4292-a530-66f298c53c77"
      },
      "source": [
        "# Write your answer in here \n",
        "layers = [2, 4, 8]\n",
        "for layer in layers:\n",
        "  model = make_model(layer, 128, 'sigmoid')\n",
        "  model.summary()\n",
        "  history = model.fit(x_train, y_train, batch_size = 128, epochs = 5, validation_data  =(x_test, y_test))\n",
        "  score = model.evaluate(x_test, y_test, verbose=0)\n",
        "  print('Accuracy for ', layer, ' number of layers:')\n",
        "  print('Test loss:', score[0])\n",
        "  print('Test accuracy:', score[1], '\\n\\n')\n",
        "\n"
      ],
      "execution_count": 34,
      "outputs": [
        {
          "output_type": "stream",
          "text": [
            "/usr/local/lib/python3.6/dist-packages/ipykernel_launcher.py:10: UserWarning: Update your `Dense` call to the Keras 2 API: `Dense(input_dim=784, activation=\"sigmoid\", units=128)`\n",
            "  # Remove the CWD from sys.path while we load stuff.\n",
            "/usr/local/lib/python3.6/dist-packages/ipykernel_launcher.py:12: UserWarning: Update your `Dense` call to the Keras 2 API: `Dense(activation=\"softmax\", units=10)`\n",
            "  if sys.path[0] == '':\n"
          ],
          "name": "stderr"
        },
        {
          "output_type": "stream",
          "text": [
            "Model: \"sequential_18\"\n",
            "_________________________________________________________________\n",
            "Layer (type)                 Output Shape              Param #   \n",
            "=================================================================\n",
            "dense_34 (Dense)             (None, 128)               100480    \n",
            "_________________________________________________________________\n",
            "dense_35 (Dense)             (None, 128)               16512     \n",
            "_________________________________________________________________\n",
            "dense_36 (Dense)             (None, 10)                1290      \n",
            "=================================================================\n",
            "Total params: 118,282\n",
            "Trainable params: 118,282\n",
            "Non-trainable params: 0\n",
            "_________________________________________________________________\n",
            "Train on 60000 samples, validate on 10000 samples\n",
            "Epoch 1/5\n",
            "60000/60000 [==============================] - 2s 30us/step - loss: 0.0915 - accuracy: 0.0986 - val_loss: 0.0909 - val_accuracy: 0.0964\n",
            "Epoch 2/5\n",
            "60000/60000 [==============================] - 2s 29us/step - loss: 0.0906 - accuracy: 0.1046 - val_loss: 0.0904 - val_accuracy: 0.1077\n",
            "Epoch 3/5\n",
            "60000/60000 [==============================] - 2s 29us/step - loss: 0.0903 - accuracy: 0.1183 - val_loss: 0.0902 - val_accuracy: 0.1165\n",
            "Epoch 4/5\n",
            "60000/60000 [==============================] - 2s 29us/step - loss: 0.0901 - accuracy: 0.1236 - val_loss: 0.0901 - val_accuracy: 0.1168\n",
            "Epoch 5/5\n",
            "60000/60000 [==============================] - 2s 29us/step - loss: 0.0900 - accuracy: 0.1321 - val_loss: 0.0900 - val_accuracy: 0.1413\n",
            "Accuracy for  2  number of layers:\n",
            "Test loss: 0.09000608547925949\n",
            "Test accuracy: 0.1412999927997589 \n",
            "\n",
            "\n",
            "Model: \"sequential_19\"\n",
            "_________________________________________________________________\n",
            "Layer (type)                 Output Shape              Param #   \n",
            "=================================================================\n",
            "dense_37 (Dense)             (None, 128)               100480    \n",
            "_________________________________________________________________\n",
            "dense_38 (Dense)             (None, 128)               16512     \n",
            "_________________________________________________________________\n",
            "dense_39 (Dense)             (None, 128)               16512     \n",
            "_________________________________________________________________\n",
            "dense_40 (Dense)             (None, 128)               16512     \n",
            "_________________________________________________________________\n",
            "dense_41 (Dense)             (None, 10)                1290      \n",
            "=================================================================\n",
            "Total params: 151,306\n",
            "Trainable params: 151,306\n",
            "Non-trainable params: 0\n",
            "_________________________________________________________________\n",
            "Train on 60000 samples, validate on 10000 samples\n",
            "Epoch 1/5\n",
            "60000/60000 [==============================] - 2s 34us/step - loss: 0.0919 - accuracy: 0.0975 - val_loss: 0.0913 - val_accuracy: 0.0974\n",
            "Epoch 2/5\n",
            "60000/60000 [==============================] - 2s 32us/step - loss: 0.0910 - accuracy: 0.0975 - val_loss: 0.0907 - val_accuracy: 0.0974\n",
            "Epoch 3/5\n",
            "60000/60000 [==============================] - 2s 32us/step - loss: 0.0905 - accuracy: 0.0975 - val_loss: 0.0904 - val_accuracy: 0.0974\n",
            "Epoch 4/5\n",
            "60000/60000 [==============================] - 2s 33us/step - loss: 0.0903 - accuracy: 0.0945 - val_loss: 0.0902 - val_accuracy: 0.0993\n",
            "Epoch 5/5\n",
            "60000/60000 [==============================] - 2s 33us/step - loss: 0.0901 - accuracy: 0.1022 - val_loss: 0.0901 - val_accuracy: 0.1010\n",
            "Accuracy for  4  number of layers:\n",
            "Test loss: 0.09010065578222275\n",
            "Test accuracy: 0.10100000351667404 \n",
            "\n",
            "\n",
            "Model: \"sequential_20\"\n",
            "_________________________________________________________________\n",
            "Layer (type)                 Output Shape              Param #   \n",
            "=================================================================\n",
            "dense_42 (Dense)             (None, 128)               100480    \n",
            "_________________________________________________________________\n",
            "dense_43 (Dense)             (None, 128)               16512     \n",
            "_________________________________________________________________\n",
            "dense_44 (Dense)             (None, 128)               16512     \n",
            "_________________________________________________________________\n",
            "dense_45 (Dense)             (None, 128)               16512     \n",
            "_________________________________________________________________\n",
            "dense_46 (Dense)             (None, 128)               16512     \n",
            "_________________________________________________________________\n",
            "dense_47 (Dense)             (None, 128)               16512     \n",
            "_________________________________________________________________\n",
            "dense_48 (Dense)             (None, 128)               16512     \n",
            "_________________________________________________________________\n",
            "dense_49 (Dense)             (None, 128)               16512     \n",
            "_________________________________________________________________\n",
            "dense_50 (Dense)             (None, 10)                1290      \n",
            "=================================================================\n",
            "Total params: 217,354\n",
            "Trainable params: 217,354\n",
            "Non-trainable params: 0\n",
            "_________________________________________________________________\n",
            "Train on 60000 samples, validate on 10000 samples\n",
            "Epoch 1/5\n",
            "60000/60000 [==============================] - 3s 44us/step - loss: 0.0949 - accuracy: 0.0975 - val_loss: 0.0922 - val_accuracy: 0.0974\n",
            "Epoch 2/5\n",
            "60000/60000 [==============================] - 2s 41us/step - loss: 0.0914 - accuracy: 0.0972 - val_loss: 0.0908 - val_accuracy: 0.0974\n",
            "Epoch 3/5\n",
            "60000/60000 [==============================] - 2s 41us/step - loss: 0.0906 - accuracy: 0.0975 - val_loss: 0.0904 - val_accuracy: 0.0980\n",
            "Epoch 4/5\n",
            "60000/60000 [==============================] - 2s 41us/step - loss: 0.0903 - accuracy: 0.0981 - val_loss: 0.0902 - val_accuracy: 0.0980\n",
            "Epoch 5/5\n",
            "60000/60000 [==============================] - 2s 41us/step - loss: 0.0901 - accuracy: 0.1015 - val_loss: 0.0901 - val_accuracy: 0.1135\n",
            "Accuracy for  8  number of layers:\n",
            "Test loss: 0.09008272473812104\n",
            "Test accuracy: 0.11349999904632568 \n",
            "\n",
            "\n"
          ],
          "name": "stdout"
        }
      ]
    },
    {
      "cell_type": "markdown",
      "metadata": {
        "id": "MrZcRg85_O3j",
        "colab_type": "text"
      },
      "source": [
        "## 3. Report the result of the test loss & accuracy, when we set the number of batch size to (64, 128, 256) \n",
        "## *** Default condition : refer in the above codes,  use \"relu\" activation, dropout rate(0.2) and each hidden layer have same neurons(number of neurons: 256) \n",
        "## *** You have to write your codes in another blank area, and write your answer in below.\n",
        "\n",
        "> 들여쓴 블록\n",
        "\n",
        "\n",
        "| batch size  |      test loss     |    test accuracy      |\n",
        "|-------------|--------------------|-----------------------|\n",
        "|   64        |                    |                       |\n",
        "|-------------|--------------------|-----------------------|\n",
        "|   128       |                    |                       | \n",
        "|-------------|--------------------|-----------------------|\n",
        "|   256       |                    |                       |\n",
        "\n"
      ]
    },
    {
      "cell_type": "code",
      "metadata": {
        "id": "A-B7cNa7_Dp6",
        "colab_type": "code",
        "colab": {}
      },
      "source": [
        "# Write your answer in here\n",
        "model = Sequential()\n",
        "model.add(Dense())\n"
      ],
      "execution_count": 0,
      "outputs": []
    },
    {
      "cell_type": "markdown",
      "metadata": {
        "id": "UXbCwzD_ANrV",
        "colab_type": "text"
      },
      "source": [
        "## 4. Report the result of the test loss & accuracy, when we set the number of epochs to (100, 200, 300)\n",
        "*** Default condition :same with the above problem 3\n",
        "\n",
        "*** You have to write your codes in another blank area, and write your answer in below.\n",
        "\n",
        "\n",
        "| epochs      |      test loss     |    test accuracy      |\n",
        "|-------------|--------------------|-----------------------|\n",
        "|   100       |                    |                       |\n",
        "|-------------|--------------------|-----------------------|\n",
        "|   200       |                    |                       | \n",
        "|-------------|--------------------|-----------------------|\n",
        "|   300       |                    |                       |"
      ]
    },
    {
      "cell_type": "code",
      "metadata": {
        "id": "5tslahpgAhZy",
        "colab_type": "code",
        "colab": {}
      },
      "source": [
        "# Write your answer in here\n",
        "\n"
      ],
      "execution_count": 0,
      "outputs": []
    },
    {
      "cell_type": "markdown",
      "metadata": {
        "id": "Rda2RcCCBkG0",
        "colab_type": "text"
      },
      "source": [
        "## 5. Plot the test loss & test accuracy about the above result(Problem 4: Epochs- 300) \n"
      ]
    },
    {
      "cell_type": "code",
      "metadata": {
        "id": "2lNpTu6NBjDz",
        "colab_type": "code",
        "colab": {}
      },
      "source": [
        "# Write your answer in here\n"
      ],
      "execution_count": 0,
      "outputs": []
    }
  ]
}
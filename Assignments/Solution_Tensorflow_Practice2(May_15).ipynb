{
  "nbformat": 4,
  "nbformat_minor": 0,
  "metadata": {
    "colab": {
      "name": "Solution_Tensorflow_Practice2(May_15).ipynb",
      "provenance": [],
      "collapsed_sections": [],
      "include_colab_link": true
    },
    "kernelspec": {
      "display_name": "Python 3",
      "language": "python",
      "name": "python3"
    },
    "language_info": {
      "codemirror_mode": {
        "name": "ipython",
        "version": 3
      },
      "file_extension": ".py",
      "mimetype": "text/x-python",
      "name": "python",
      "nbconvert_exporter": "python",
      "pygments_lexer": "ipython3",
      "version": "3.7.3"
    }
  },
  "cells": [
    {
      "cell_type": "markdown",
      "metadata": {
        "id": "view-in-github",
        "colab_type": "text"
      },
      "source": [
        "<a href=\"https://colab.research.google.com/github/sayem1997/AIPII/blob/master/Assignments/Solution_Tensorflow_Practice2(May_15).ipynb\" target=\"_parent\"><img src=\"https://colab.research.google.com/assets/colab-badge.svg\" alt=\"Open In Colab\"/></a>"
      ]
    },
    {
      "cell_type": "markdown",
      "metadata": {
        "colab_type": "text",
        "id": "vp4pgEdQiWbO"
      },
      "source": [
        "# Basic feed forward neural network "
      ]
    },
    {
      "cell_type": "code",
      "metadata": {
        "id": "8_HJ7WIKqvJb",
        "colab_type": "code",
        "outputId": "c330b29d-44b4-4322-eac1-f255e086c499",
        "colab": {
          "base_uri": "https://localhost:8080/",
          "height": 257
        }
      },
      "source": [
        "import tensorflow as tf\n",
        "import numpy as np\n",
        "# Eageer Execution \n",
        "# : an imperative programming environment that evaluates operations immediately, without building graphs\n",
        "a = [[2.0]]\n",
        "m = tf.matmul(a,a)\n",
        "print(\"result, {}\".format(m))\n",
        "a = tf.constant([[1,2], [3,4]])\n",
        "print(a)\n",
        "b = tf.add(a,1)   # broadcasting\n",
        "print(b) \n",
        "print(a * b) # operator overloading is supported... \n",
        "c = np.multiply(a,b)\n",
        "print(c)\n",
        "# obtain numpy value from a tensor\n",
        "print(a.numpy())"
      ],
      "execution_count": 0,
      "outputs": [
        {
          "output_type": "stream",
          "text": [
            "result, [[4.]]\n",
            "tf.Tensor(\n",
            "[[1 2]\n",
            " [3 4]], shape=(2, 2), dtype=int32)\n",
            "tf.Tensor(\n",
            "[[2 3]\n",
            " [4 5]], shape=(2, 2), dtype=int32)\n",
            "tf.Tensor(\n",
            "[[ 2  6]\n",
            " [12 20]], shape=(2, 2), dtype=int32)\n",
            "[[ 2  6]\n",
            " [12 20]]\n",
            "[[1 2]\n",
            " [3 4]]\n"
          ],
          "name": "stdout"
        }
      ]
    },
    {
      "cell_type": "code",
      "metadata": {
        "id": "C9-ywoj0tFhF",
        "colab_type": "code",
        "colab": {}
      },
      "source": [
        "# dynamic control flow \n",
        "def fizzbuzz(max_num):\n",
        "  counter = tf.constant(0) \n",
        "  max_num = tf.convert_to_tensor(max_num)\n",
        "  for i in range(1, max_num.numpy()+1):\n",
        "    i = tf.constant(i)\n",
        "    if int(i % 3) == 0 and int(i % 5) == 0:\n",
        "      print(\"fizzbuzz\")\n",
        "    elif int(i % 3) == 0:\n",
        "      print(\"fizz\")\n",
        "    elif int(i % 5) == 0:\n",
        "      print(\"buzz\")\n",
        "    else:\n",
        "      print(i.numpy())\n",
        "    counter += 1"
      ],
      "execution_count": 0,
      "outputs": []
    },
    {
      "cell_type": "code",
      "metadata": {
        "id": "71ZqAMB5t-4w",
        "colab_type": "code",
        "outputId": "29e14a02-2f8c-454f-c2cc-41858115f044",
        "colab": {
          "base_uri": "https://localhost:8080/",
          "height": 274
        }
      },
      "source": [
        "fizzbuzz(15)"
      ],
      "execution_count": 0,
      "outputs": [
        {
          "output_type": "stream",
          "text": [
            "1\n",
            "2\n",
            "fizz\n",
            "4\n",
            "buzz\n",
            "fizz\n",
            "7\n",
            "8\n",
            "fizz\n",
            "buzz\n",
            "11\n",
            "fizz\n",
            "13\n",
            "14\n",
            "fizzbuzz\n"
          ],
          "name": "stdout"
        }
      ]
    },
    {
      "cell_type": "code",
      "metadata": {
        "colab_type": "code",
        "id": "hRZJQtM2iWbP",
        "colab": {}
      },
      "source": [
        "# -*- coding: utf-8 -*-\n",
        "import tensorflow as tf\n",
        "from tensorflow import keras \n",
        "import matplotlib.pyplot as plt\n",
        "import numpy as np\n"
      ],
      "execution_count": 0,
      "outputs": []
    },
    {
      "cell_type": "markdown",
      "metadata": {
        "colab_type": "text",
        "id": "pB28eCaYiWbS"
      },
      "source": [
        "# 1. MNIST dataset"
      ]
    },
    {
      "cell_type": "markdown",
      "metadata": {
        "colab_type": "text",
        "id": "_ZeJkxjPiWbT"
      },
      "source": [
        "## 1.1 Download MNIST dataset"
      ]
    },
    {
      "cell_type": "code",
      "metadata": {
        "colab_type": "code",
        "id": "xdpKRPYliWbT",
        "colab": {}
      },
      "source": [
        "mnist = tf.keras.datasets.mnist"
      ],
      "execution_count": 0,
      "outputs": []
    },
    {
      "cell_type": "markdown",
      "metadata": {
        "colab_type": "text",
        "id": "56Awv_mviWbX"
      },
      "source": [
        "## 1.2 Understand structure of the MNIST dataset"
      ]
    },
    {
      "cell_type": "markdown",
      "metadata": {
        "colab_type": "text",
        "id": "sO85FUPeiWbX"
      },
      "source": [
        "The MNIST dataset was constructed from two datasets of the US National Institute of Standards and Technology(NIST). The training set consists of handwritten digits from 250 different people, 50 percent high school students, and 50 percent employees from the Census Bureau. \n",
        "- change datas into 0~1"
      ]
    },
    {
      "cell_type": "code",
      "metadata": {
        "colab_type": "code",
        "id": "tDZTEQ2diWbY",
        "outputId": "3ccba533-f89a-46f3-be06-058f4ad0e661",
        "colab": {
          "base_uri": "https://localhost:8080/",
          "height": 88
        }
      },
      "source": [
        "print(mnist)\n",
        "\n",
        "# Split MNIST dataset into 2 part: train, test, validation \n",
        "(x_train, y_train), (x_test, y_test) = mnist.load_data()\n",
        "x_train, x_test = x_train/255.0, x_test/255.0"
      ],
      "execution_count": 0,
      "outputs": [
        {
          "output_type": "stream",
          "text": [
            "<module 'tensorflow.keras.datasets.mnist' from '/usr/local/lib/python3.6/dist-packages/tensorflow/keras/datasets/mnist/__init__.py'>\n",
            "Downloading data from https://storage.googleapis.com/tensorflow/tf-keras-datasets/mnist.npz\n",
            "11493376/11490434 [==============================] - 0s 0us/step\n"
          ],
          "name": "stdout"
        }
      ]
    },
    {
      "cell_type": "markdown",
      "metadata": {
        "colab_type": "text",
        "id": "lcMCi4C1iWba"
      },
      "source": [
        "### Structure of the train set\n",
        "#### y_train: label vectors for each data\n",
        "#### x_train: 1-d image vectors for each data"
      ]
    },
    {
      "cell_type": "code",
      "metadata": {
        "colab_type": "code",
        "id": "87eImwUViWbb",
        "outputId": "78094cb7-bde4-49b8-88be-263260462ee8",
        "colab": {
          "base_uri": "https://localhost:8080/",
          "height": 34
        }
      },
      "source": [
        "np.shape(x_train)"
      ],
      "execution_count": 0,
      "outputs": [
        {
          "output_type": "execute_result",
          "data": {
            "text/plain": [
              "(60000, 28, 28)"
            ]
          },
          "metadata": {
            "tags": []
          },
          "execution_count": 18
        }
      ]
    },
    {
      "cell_type": "code",
      "metadata": {
        "colab_type": "code",
        "id": "YC43-D3OiWbf",
        "outputId": "e8957213-3f15-4eff-d7e7-016b3cc165f9",
        "colab": {
          "base_uri": "https://localhost:8080/",
          "height": 34
        }
      },
      "source": [
        "np.shape(y_train)"
      ],
      "execution_count": 0,
      "outputs": [
        {
          "output_type": "execute_result",
          "data": {
            "text/plain": [
              "(60000,)"
            ]
          },
          "metadata": {
            "tags": []
          },
          "execution_count": 19
        }
      ]
    },
    {
      "cell_type": "markdown",
      "metadata": {
        "colab_type": "text",
        "id": "90a9A5yHoHB5"
      },
      "source": [
        "###Reshape of the train and test data\n",
        "#### Data shape is (n, 28, 28)\n",
        "#### For matmul, we should reshape data into (n, 784)\n",
        "#### For loss function, we should reshape label into (n, 10)"
      ]
    },
    {
      "cell_type": "code",
      "metadata": {
        "colab_type": "code",
        "id": "JN98dU9ZoTY2",
        "colab": {}
      },
      "source": [
        "x_train = np.reshape(x_train,(-1,784))\n",
        "x_test = np.reshape(x_test,(-1,784))"
      ],
      "execution_count": 0,
      "outputs": []
    },
    {
      "cell_type": "markdown",
      "metadata": {
        "colab_type": "text",
        "id": "MiHBZQvKiWbh"
      },
      "source": [
        "## Exercise 1: Investigate structure of test set"
      ]
    },
    {
      "cell_type": "code",
      "metadata": {
        "colab_type": "code",
        "id": "IyZEv0MviWbi",
        "outputId": "f6414c76-bc82-4182-accc-9802fac6dfad",
        "colab": {
          "base_uri": "https://localhost:8080/",
          "height": 86
        }
      },
      "source": [
        "print(np.shape(x_test))\n",
        "print(np.shape(y_test))\n",
        "print(np.shape(x_train))\n",
        "print(np.shape(y_train))"
      ],
      "execution_count": 0,
      "outputs": [
        {
          "output_type": "stream",
          "text": [
            "(10000, 784)\n",
            "(10000,)\n",
            "(60000, 784)\n",
            "(60000,)\n"
          ],
          "name": "stdout"
        }
      ]
    },
    {
      "cell_type": "markdown",
      "metadata": {
        "colab_type": "text",
        "id": "arLNyxY8iWbo"
      },
      "source": [
        "## 1.3 Visualize images of the MNIST dataset"
      ]
    },
    {
      "cell_type": "code",
      "metadata": {
        "colab_type": "code",
        "id": "56mep7JiiWbp",
        "colab": {}
      },
      "source": [
        "# Function for visualize a MNIST image.\n",
        "def visualize_MNIST_image(x, y, index):\n",
        "    target_label = y[index]\n",
        "    target_image = x[index].reshape((28,28))\n",
        "    plt.title('Label: %d'%target_label)\n",
        "    plt.imshow(target_image, cmap='gray')\n",
        "plt.show()\n"
      ],
      "execution_count": 0,
      "outputs": []
    },
    {
      "cell_type": "code",
      "metadata": {
        "colab_type": "code",
        "id": "ZoPjVvSuiWbr",
        "outputId": "3f2ca834-d26c-4607-b348-89e8af7f4fca",
        "colab": {
          "base_uri": "https://localhost:8080/",
          "height": 281
        }
      },
      "source": [
        "visualize_MNIST_image(x_train, y_train, 1)"
      ],
      "execution_count": 0,
      "outputs": [
        {
          "output_type": "display_data",
          "data": {
            "image/png": "[encoded data removed]",
            "text/plain": [
              "<Figure size 432x288 with 1 Axes>"
            ]
          },
          "metadata": {
            "tags": [],
            "needs_background": "light"
          }
        }
      ]
    },
    {
      "cell_type": "markdown",
      "metadata": {
        "colab_type": "text",
        "id": "oK0hOlhSiWbu"
      },
      "source": [
        "# 2. Single layer neural network model\n",
        "\n",
        "![Computation Graph](https://ml4a.github.io/images/figures/mnist_1layer.png)"
      ]
    },
    {
      "cell_type": "markdown",
      "metadata": {
        "colab_type": "text",
        "id": "-l4k4M_miWbv"
      },
      "source": [
        "## 2.1 Set the variables\n",
        "### Set the hyper-parameters for neural network model"
      ]
    },
    {
      "cell_type": "code",
      "metadata": {
        "colab_type": "code",
        "id": "lqbrz3nDiWbv",
        "colab": {}
      },
      "source": [
        "learning_rate = 0.05 # Training speed\n",
        "num_of_epoch = 20  # Training period  from 20 ~ 50 \n",
        "# batch_size = 30  # how many image sent to a model at a once.. \n"
      ],
      "execution_count": 0,
      "outputs": []
    },
    {
      "cell_type": "markdown",
      "metadata": {
        "colab_type": "text",
        "id": "jXSCh6qJiWb3"
      },
      "source": [
        "## 2.2 Define single layer neural network and cross entropy loss function\n",
        "#### Numerical expression for the neural network: y = softmax(x ⋅ W + b)"
      ]
    },
    {
      "cell_type": "code",
      "metadata": {
        "colab_type": "code",
        "id": "y6rrXxOMiWb4",
        "colab": {}
      },
      "source": [
        "model = tf.keras.Sequential([tf.keras.layers.Dense(10,activation='softmax')])\n",
        "\n",
        "optimizer = keras.optimizers.SGD(learning_rate=learning_rate)\n",
        "\n",
        "model.compile(optimizer=optimizer, loss='sparse_categorical_crossentropy', metrics=['accuracy'])"
      ],
      "execution_count": 0,
      "outputs": []
    },
    {
      "cell_type": "markdown",
      "metadata": {
        "colab_type": "text",
        "id": "XRHVhxUMiWb9"
      },
      "source": [
        "## 2.4 Train the model's parameter W and b with gradient descent"
      ]
    },
    {
      "cell_type": "code",
      "metadata": {
        "colab_type": "code",
        "id": "lL-jQbn7iWcA",
        "outputId": "7b7e986f-7d78-41fc-fd9a-315bace50d0b",
        "colab": {
          "base_uri": "https://localhost:8080/",
          "height": 740
        }
      },
      "source": [
        "model.fit(x_train, y_train, epochs=num_of_epoch)"
      ],
      "execution_count": 0,
      "outputs": [
        {
          "output_type": "stream",
          "text": [
            "Epoch 1/20\n",
            "1875/1875 [==============================] - 3s 2ms/step - loss: 0.4819 - accuracy: 0.8730\n",
            "Epoch 2/20\n",
            "1875/1875 [==============================] - 3s 2ms/step - loss: 0.3382 - accuracy: 0.9052\n",
            "Epoch 3/20\n",
            "1875/1875 [==============================] - 3s 2ms/step - loss: 0.3150 - accuracy: 0.9116\n",
            "Epoch 4/20\n",
            "1875/1875 [==============================] - 4s 2ms/step - loss: 0.3029 - accuracy: 0.9153\n",
            "Epoch 5/20\n",
            "1875/1875 [==============================] - 4s 2ms/step - loss: 0.2952 - accuracy: 0.9165\n",
            "Epoch 6/20\n",
            "1875/1875 [==============================] - 4s 2ms/step - loss: 0.2893 - accuracy: 0.9189\n",
            "Epoch 7/20\n",
            "1875/1875 [==============================] - 4s 2ms/step - loss: 0.2851 - accuracy: 0.9207\n",
            "Epoch 8/20\n",
            "1875/1875 [==============================] - 3s 2ms/step - loss: 0.2814 - accuracy: 0.9217\n",
            "Epoch 9/20\n",
            "1875/1875 [==============================] - 3s 2ms/step - loss: 0.2786 - accuracy: 0.9223\n",
            "Epoch 10/20\n",
            "1875/1875 [==============================] - 3s 1ms/step - loss: 0.2758 - accuracy: 0.9234\n",
            "Epoch 11/20\n",
            "1875/1875 [==============================] - 3s 1ms/step - loss: 0.2738 - accuracy: 0.9239\n",
            "Epoch 12/20\n",
            "1875/1875 [==============================] - 3s 1ms/step - loss: 0.2719 - accuracy: 0.9243\n",
            "Epoch 13/20\n",
            "1875/1875 [==============================] - 4s 2ms/step - loss: 0.2705 - accuracy: 0.9250\n",
            "Epoch 14/20\n",
            "1875/1875 [==============================] - 4s 2ms/step - loss: 0.2689 - accuracy: 0.9254\n",
            "Epoch 15/20\n",
            "1875/1875 [==============================] - 5s 2ms/step - loss: 0.2673 - accuracy: 0.9254\n",
            "Epoch 16/20\n",
            "1875/1875 [==============================] - 4s 2ms/step - loss: 0.2662 - accuracy: 0.9262\n",
            "Epoch 17/20\n",
            "1875/1875 [==============================] - 3s 2ms/step - loss: 0.2650 - accuracy: 0.9265\n",
            "Epoch 18/20\n",
            "1875/1875 [==============================] - 3s 1ms/step - loss: 0.2640 - accuracy: 0.9266\n",
            "Epoch 19/20\n",
            "1875/1875 [==============================] - 3s 1ms/step - loss: 0.2628 - accuracy: 0.9275\n",
            "Epoch 20/20\n",
            "1875/1875 [==============================] - 3s 2ms/step - loss: 0.2620 - accuracy: 0.9276\n"
          ],
          "name": "stdout"
        },
        {
          "output_type": "execute_result",
          "data": {
            "text/plain": [
              "<tensorflow.python.keras.callbacks.History at 0x7fa0a49a6cf8>"
            ]
          },
          "metadata": {
            "tags": []
          },
          "execution_count": 30
        }
      ]
    },
    {
      "cell_type": "markdown",
      "metadata": {
        "colab_type": "text",
        "id": "11MjVAW-iWcC"
      },
      "source": [
        "## 2.5 Evaluate the model's performance"
      ]
    },
    {
      "cell_type": "code",
      "metadata": {
        "colab_type": "code",
        "id": "sKlnFRDYiWcD",
        "outputId": "716d4d20-3fc2-4800-b239-25267fd9836d",
        "colab": {
          "base_uri": "https://localhost:8080/",
          "height": 51
        }
      },
      "source": [
        "print(np.mean(np.equal(model.predict_classes(x_test,verbose=1),y_test)))"
      ],
      "execution_count": 0,
      "outputs": [
        {
          "output_type": "stream",
          "text": [
            "313/313 [==============================] - 0s 1ms/step\n",
            "0.9244\n"
          ],
          "name": "stdout"
        }
      ]
    },
    {
      "cell_type": "markdown",
      "metadata": {
        "colab_type": "text",
        "id": "jL0sxSySiWcI"
      },
      "source": [
        "## 2.6 Visualize trained weight matrix W"
      ]
    },
    {
      "cell_type": "code",
      "metadata": {
        "colab_type": "code",
        "id": "oYiInkX8iWcI",
        "scrolled": false,
        "outputId": "f71abf48-b91d-48d1-c6f2-1f04fcf01993",
        "colab": {
          "base_uri": "https://localhost:8080/",
          "height": 435
        }
      },
      "source": [
        "# Get value of the weight matrix W\n",
        "print(model.layers[0].get_weights()[0].shape)\n",
        "# Get value of the bias B\n",
        "print(model.layers[0].get_weights()[1].shape)\n",
        "\n",
        "W = model.layers[0].get_weights()[0]\n",
        "plt.figure(figsize=(12, 9))\n",
        "for i in range(10):\n",
        "    W_i = W[:,i].reshape((28,28))\n",
        "    plt.subplot(2, 5, i+1)\n",
        "    plt.title('Filter: %d'%i)\n",
        "    plt.imshow(W_i, cmap='gray')\n",
        "\n",
        "plt.show()"
      ],
      "execution_count": 0,
      "outputs": [
        {
          "output_type": "stream",
          "text": [
            "(784, 10)\n",
            "(10,)\n"
          ],
          "name": "stdout"
        },
        {
          "output_type": "display_data",
          "data": {
            "image/png": "[encoded data removed]",
            "text/plain": [
              "<Figure size 864x648 with 10 Axes>"
            ]
          },
          "metadata": {
            "tags": [],
            "needs_background": "light"
          }
        }
      ]
    },
    {
      "cell_type": "code",
      "metadata": {
        "id": "5T4Z9nK7zY8j",
        "colab_type": "code",
        "colab": {}
      },
      "source": [
        ""
      ],
      "execution_count": 0,
      "outputs": []
    }
  ]
}